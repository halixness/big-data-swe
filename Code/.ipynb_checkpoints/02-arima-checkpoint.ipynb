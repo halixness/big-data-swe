{
 "cells": [
  {
   "cell_type": "markdown",
   "metadata": {
    "id": "FLFBcjluLsu8"
   },
   "source": [
    "# Modeling #1 - ARIMA"
   ]
  },
  {
   "cell_type": "markdown",
   "metadata": {
    "id": "r9fh4RYOLsvH"
   },
   "source": [
    "### Steps\n",
    "- Caricamento dataset\n",
    "- Train-test split\n",
    "- Test di Dickey-Fuller e Differenziazione\n",
    "- Verifica Autocorrelazione\n",
    "- Training e previsione"
   ]
  },
  {
   "cell_type": "code",
   "execution_count": 2,
   "metadata": {
    "id": "izqg-6lZLsvH"
   },
   "outputs": [],
   "source": [
    "import numpy as np\n",
    "import pandas as pd\n",
    "import os\n",
    "from pathlib import Path\n",
    "import tqdm\n",
    "import matplotlib.pyplot as plt\n",
    "import random\n",
    "import torch\n",
    "import torch.nn as nn\n",
    "import torch.optim as optim\n",
    "\n",
    "%matplotlib inline"
   ]
  },
  {
   "cell_type": "markdown",
   "metadata": {
    "id": "v5kuFuMwLsvI"
   },
   "source": [
    "### Data Import"
   ]
  },
  {
   "cell_type": "code",
   "execution_count": 3,
   "metadata": {
    "colab": {
     "base_uri": "https://localhost:8080/"
    },
    "id": "ZQpFsZoyyjnf",
    "outputId": "fe76bc01-d04e-4294-ebd4-b3c5b854735c"
   },
   "outputs": [
    {
     "name": "stdout",
     "output_type": "stream",
     "text": [
      "(1000, 1, 300, 300)\n"
     ]
    }
   ],
   "source": [
    "timesteps = np.load('../Data/timesteps.npy')\n",
    "print(timesteps.shape)"
   ]
  },
  {
   "cell_type": "code",
   "execution_count": 4,
   "metadata": {
    "id": "On9WEtfpz4BE"
   },
   "outputs": [],
   "source": [
    "# Rimozione valori soglia\n",
    "timesteps[timesteps >= 1e5] = 0"
   ]
  },
  {
   "cell_type": "code",
   "execution_count": 5,
   "metadata": {
    "id": "UiPukPAn9rns"
   },
   "outputs": [],
   "source": [
    "# Seleziono solo i primi 800 frames (allagamento e stabilizzazione fluido)\n",
    "timesteps = timesteps[:800]"
   ]
  },
  {
   "cell_type": "markdown",
   "metadata": {
    "id": "SN0WrmPpO2Wv"
   },
   "source": [
    "### Analisi serie temporale con ARIMA\n",
    "Si analizza il problema con l'applicazione dell'algoritmo ARIMA (Auto Regressive Integrated Moving Average). Questa tecnica statistica si applica su una serie temporale univariata, a patto che sia stazionaria."
   ]
  },
  {
   "cell_type": "code",
   "execution_count": 6,
   "metadata": {
    "id": "DKNdjjJbO1nv"
   },
   "outputs": [],
   "source": [
    "sums = [np.mean(t) for t in timesteps]\n",
    "sums_df = pd.DataFrame(\n",
    "    data = sums,\n",
    "    columns = [\"value\"]\n",
    ")"
   ]
  },
  {
   "cell_type": "code",
   "execution_count": 7,
   "metadata": {
    "colab": {
     "base_uri": "https://localhost:8080/"
    },
    "id": "cO-uNbCS8Fkz",
    "outputId": "7d9a081b-0133-4ffa-b267-e9688851f608"
   },
   "outputs": [
    {
     "data": {
      "text/plain": [
       "0.131551"
      ]
     },
     "execution_count": 7,
     "metadata": {
      "tags": []
     },
     "output_type": "execute_result"
    }
   ],
   "source": [
    "np.max(timesteps)"
   ]
  },
  {
   "cell_type": "code",
   "execution_count": 8,
   "metadata": {
    "colab": {
     "base_uri": "https://localhost:8080/",
     "height": 265
    },
    "id": "YLdmDUb1O6KQ",
    "outputId": "a347dfc0-95c1-48a1-ecf5-edea0cf1f6df"
   },
   "outputs": [
    {
     "data": {
      "image/png": "[encoded data removed]",
      "text/plain": [
       "<Figure size 432x288 with 1 Axes>"
      ]
     },
     "metadata": {
      "needs_background": "light",
      "tags": []
     },
     "output_type": "display_data"
    }
   ],
   "source": [
    "# Semplifico ogni matrice temporale con un solo numero (somma di tutte le celle)\n",
    "plt.plot(sums_df)\n",
    "pass"
   ]
  },
  {
   "cell_type": "markdown",
   "metadata": {
    "id": "tbR5c3EyXRV-"
   },
   "source": [
    "#### Test di Dicky-Fuller\n",
    "Bisogna verificare se la serie temporale é stazionaria"
   ]
  },
  {
   "cell_type": "code",
   "execution_count": 9,
   "metadata": {
    "colab": {
     "base_uri": "https://localhost:8080/"
    },
    "id": "-wiubAhjQjua",
    "outputId": "8845829d-0335-40a2-bd9a-c58fcea39e2e"
   },
   "outputs": [
    {
     "name": "stderr",
     "output_type": "stream",
     "text": [
      "/usr/local/lib/python3.6/dist-packages/statsmodels/tools/_testing.py:19: FutureWarning: pandas.util.testing is deprecated. Use the functions in the public API at pandas.testing instead.\n",
      "  import pandas.util.testing as tm\n"
     ]
    }
   ],
   "source": [
    "from statsmodels.tsa.stattools import adfuller\n",
    "\n",
    "def adf_check(data, verbose = True):\n",
    "    result = adfuller(data)\n",
    "    if verbose: print(\"Augmented Dicky-Fuller Test\")\n",
    "    labels = [\"ADF Test Statistic\", \"p-value\", \"# of lags\", \"# observations used\"]\n",
    "    \n",
    "    for value,label in zip(result, labels):\n",
    "        if verbose: print(\"{}: {}\".format(label, value))\n",
    "        \n",
    "    if result[1] <= 0.05:\n",
    "        if verbose: print(\"Strong evidence against null hypothesis\")\n",
    "        if verbose: print(\"No unit root, data is stationary\")\n",
    "        return True\n",
    "    # > 0.05\n",
    "    else:\n",
    "        if verbose: print(\"Weak evidence against null hypothesis\")\n",
    "        if verbose: print(\"There is root unit, data non stationary\")\n",
    "        return False"
   ]
  },
  {
   "cell_type": "code",
   "execution_count": 10,
   "metadata": {
    "colab": {
     "base_uri": "https://localhost:8080/"
    },
    "id": "v9wdsCFzQnrH",
    "outputId": "ae3293e8-6b94-4133-add4-62172ba0c55b"
   },
   "outputs": [
    {
     "name": "stdout",
     "output_type": "stream",
     "text": [
      "Augmented Dicky-Fuller Test\n",
      "ADF Test Statistic: -2.1590425417885593\n",
      "p-value: 0.22144489146757923\n",
      "# of lags: 21\n",
      "# observations used: 778\n",
      "Weak evidence against null hypothesis\n",
      "There is root unit, data non stationary\n"
     ]
    },
    {
     "data": {
      "text/plain": [
       "False"
      ]
     },
     "execution_count": 10,
     "metadata": {
      "tags": []
     },
     "output_type": "execute_result"
    }
   ],
   "source": [
    "adf_check(sums_df[\"value\"])"
   ]
  },
  {
   "cell_type": "markdown",
   "metadata": {
    "id": "XtzmbFIkXXLn"
   },
   "source": [
    "#### Differenziazione K\n",
    "Un metodo per rendere la serie stazionaria (mean e std fissi nel tempo) é differenziare per K iterazioni: si sottraggono ad ogni valore della serie i suoi K precedenti."
   ]
  },
  {
   "cell_type": "code",
   "execution_count": 11,
   "metadata": {
    "colab": {
     "base_uri": "https://localhost:8080/",
     "height": 299
    },
    "id": "aOvzI9vORKR-",
    "outputId": "c5f40eb4-7f53-4fe6-ac11-be9b5bb6aa76"
   },
   "outputs": [
    {
     "name": "stdout",
     "output_type": "stream",
     "text": [
      "Stationarity reached with k = 1\n"
     ]
    },
    {
     "data": {
      "text/plain": [
       "<matplotlib.axes._subplots.AxesSubplot at 0x7f474a0a9668>"
      ]
     },
     "execution_count": 11,
     "metadata": {
      "tags": []
     },
     "output_type": "execute_result"
    },
    {
     "data": {
      "image/png": "[encoded data removed]",
      "text/plain": [
       "<Figure size 432x288 with 1 Axes>"
      ]
     },
     "metadata": {
      "needs_background": "light",
      "tags": []
     },
     "output_type": "display_data"
    }
   ],
   "source": [
    "# curr - previous\n",
    "diff = sums_df\n",
    "k = 10\n",
    "\n",
    "# Early stopping se raggiungo giá una serie stazionaria\n",
    "for i in range(k):\n",
    "\n",
    "  result = adf_check(diff[\"value\"].dropna(), False)\n",
    "  \n",
    "  if result is True:\n",
    "    print(\"Stationarity reached with k = {}\".format(i))\n",
    "    break\n",
    "\n",
    "  diff[\"value\"] = sums_df[\"value\"] - sums_df[\"value\"].shift(1)\n",
    "\n",
    "diff[\"value\"].plot()"
   ]
  },
  {
   "cell_type": "markdown",
   "metadata": {
    "id": "-aVaCNTIZOAC"
   },
   "source": [
    "#### Autocorrelation\n",
    "L'autocorrelazione puó essere d'aiuto per capire se applicare un modello piú basato sull'Auto Regressione o sul Moving Average."
   ]
  },
  {
   "cell_type": "code",
   "execution_count": 12,
   "metadata": {
    "id": "nQRJEArJSDZP"
   },
   "outputs": [],
   "source": [
    "from statsmodels.graphics.tsaplots import plot_acf, plot_pacf"
   ]
  },
  {
   "cell_type": "code",
   "execution_count": 18,
   "metadata": {
    "colab": {
     "base_uri": "https://localhost:8080/",
     "height": 281
    },
    "id": "AVp1ALkUSGOb",
    "outputId": "78d45575-a869-4060-8bd6-e8bc59a2f591"
   },
   "outputs": [
    {
     "data": {
      "image/png": "[encoded data removed]",
      "text/plain": [
       "<Figure size 432x288 with 1 Axes>"
      ]
     },
     "metadata": {
      "needs_background": "light",
      "tags": []
     },
     "output_type": "display_data"
    }
   ],
   "source": [
    "fig_first = plot_acf(diff['value'].dropna())"
   ]
  },
  {
   "cell_type": "markdown",
   "metadata": {
    "id": "tj_-ZqbdZhFt"
   },
   "source": [
    "#### ARIMA"
   ]
  },
  {
   "cell_type": "code",
   "execution_count": 15,
   "metadata": {
    "id": "Bi4tw6mvAPKI"
   },
   "outputs": [],
   "source": [
    "# Suppress framework warnings\n",
    "import warnings\n",
    "from statsmodels.tools.sm_exceptions import ConvergenceWarning\n",
    "warnings.simplefilter('ignore', ConvergenceWarning)"
   ]
  },
  {
   "cell_type": "code",
   "execution_count": 16,
   "metadata": {
    "id": "2coAmrO5SkCq"
   },
   "outputs": [],
   "source": [
    "from statsmodels.tsa.arima_model import ARIMA"
   ]
  },
  {
   "cell_type": "code",
   "execution_count": 20,
   "metadata": {
    "colab": {
     "base_uri": "https://localhost:8080/"
    },
    "id": "jmaUVp38TSFF",
    "outputId": "3853d247-316e-46be-9a32-40fe13804a0f"
   },
   "outputs": [
    {
     "name": "stdout",
     "output_type": "stream",
     "text": [
      "Error: 25.72%\n"
     ]
    }
   ],
   "source": [
    "train_size = int(sums_df[\"value\"].dropna().shape[0] * 0.9)\n",
    "train = sums_df[\"value\"].dropna()[0:train_size]\n",
    "test = np.asarray(sums_df[\"value\"].dropna()[train_size:])\n",
    "\n",
    "# Train\n",
    "avg_err = []\n",
    "\n",
    "error = []\n",
    "\n",
    "history = [v for v in train]\n",
    "predicted = [v for v in train]\n",
    "\n",
    "# Numero crescente nel futuro (test)\n",
    "for t in range(len(test)):\n",
    "\n",
    "  # fornire i valori P, D, Q\n",
    "  # p = quanti lags per superare la linea di significato del partial correlation plot?\n",
    "  # d = ordine di differenziazione\n",
    "  # q = di quanti termini effettuare Moving Average per ridurre l'errore di lagged forecast\n",
    "  p = 2\n",
    "  d = 1\n",
    "  q = 0\n",
    "  model = ARIMA(history, order=(2, 1, 0))\n",
    "  model = model.fit()\n",
    "\n",
    "  y_hat = model.forecast()[0]\n",
    "  y = test[t]\n",
    "\n",
    "  history.append(y)\n",
    "  predicted.append(y_hat)\n",
    "\n",
    "  # (Differenza / true) = % errore\n",
    "  error.append(abs((y_hat - y)/y))\n",
    "\n",
    "print(\"Error: {}%\".format(round((np.mean(error)) * 100, 2)))\n",
    "avg_err.append(round((np.mean(error)) * 100, 2))"
   ]
  },
  {
   "cell_type": "code",
   "execution_count": null,
   "metadata": {
    "id": "EWpzASNfq11O"
   },
   "outputs": [],
   "source": [
    "# Test con w = 5 \n",
    "train = sums_df[\"value\"].dropna()[0:train_size]\n",
    "history = [v for v in train]\n",
    "predicted = [v for v in train]\n",
    "\n",
    "for t in range(len(test)):\n",
    "  model = ARIMA(history, order=(2, 1, 0))\n",
    "  model = model.fit()\n",
    "\n",
    "  y_hat = model.forecast()[0]\n",
    "  y = test[t]\n",
    "\n",
    "  history.append(y)\n",
    "  predicted.append(y_hat)\n",
    "\n",
    "  # (Differenza / true) = % errore\n",
    "  err = abs((y_hat - y)/y)\n",
    "  print(\"{}\".format(err))\n",
    "  "
   ]
  },
  {
   "cell_type": "code",
   "execution_count": 30,
   "metadata": {
    "colab": {
     "base_uri": "https://localhost:8080/",
     "height": 298
    },
    "id": "eYXIBUP8W6fA",
    "outputId": "71054ec0-ec9a-4355-f555-b0514d6290b8"
   },
   "outputs": [
    {
     "data": {
      "text/plain": [
       "<matplotlib.legend.Legend at 0x7f473fdd6550>"
      ]
     },
     "execution_count": 30,
     "metadata": {
      "tags": []
     },
     "output_type": "execute_result"
    },
    {
     "data": {
      "image/png": "[encoded data removed]",
      "text/plain": [
       "<Figure size 432x288 with 1 Axes>"
      ]
     },
     "metadata": {
      "needs_background": "light",
      "tags": []
     },
     "output_type": "display_data"
    }
   ],
   "source": [
    "plt.title(\"Predicted vs. Real\")\n",
    "plt.plot(predicted[train_size:], label=\"predicted\")\n",
    "plt.plot(history[train_size:], label=\"history\")\n",
    "plt.legend()"
   ]
  }
 ],
 "metadata": {
  "accelerator": "TPU",
  "colab": {
   "collapsed_sections": [
    "DjRZWzyGLsvF",
    "PZtBhlk7LsvG",
    "Fpt3oGR0eiUp",
    "LvEx-GztyVhs",
    "prdZDRvTLsvN",
    "r--3rUVgLsvM"
   ],
   "name": "04-data-preparation.ipynb",
   "provenance": []
  },
  "kernelspec": {
   "display_name": "Python 3",
   "language": "python",
   "name": "python3"
  },
  "language_info": {
   "codemirror_mode": {
    "name": "ipython",
    "version": 3
   },
   "file_extension": ".py",
   "mimetype": "text/x-python",
   "name": "python",
   "nbconvert_exporter": "python",
   "pygments_lexer": "ipython3",
   "version": "3.7.0"
  }
 },
 "nbformat": 4,
 "nbformat_minor": 1
}
