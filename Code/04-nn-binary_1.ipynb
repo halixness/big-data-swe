{
  "nbformat": 4,
  "nbformat_minor": 0,
  "metadata": {
    "accelerator": "GPU",
    "colab": {
      "name": "06-feed-binary-1.ipynb",
      "provenance": [],
      "collapsed_sections": []
    },
    "kernelspec": {
      "display_name": "Python 3",
      "language": "python",
      "name": "python3"
    },
    "language_info": {
      "codemirror_mode": {
        "name": "ipython",
        "version": 3
      },
      "file_extension": ".py",
      "mimetype": "text/x-python",
      "name": "python",
      "nbconvert_exporter": "python",
      "pygments_lexer": "ipython3",
      "version": "3.8.5"
    }
  },
  "cells": [
    {
      "cell_type": "markdown",
      "metadata": {
        "id": "Lq6P0Gd-GyXz"
      },
      "source": [
        "### Functions"
      ]
    },
    {
      "cell_type": "code",
      "metadata": {
        "id": "izqg-6lZLsvH"
      },
      "source": [
        "import numpy as np\n",
        "import pandas as pd\n",
        "import os\n",
        "from pathlib import Path\n",
        "import tqdm\n",
        "import matplotlib.pyplot as plt\n",
        "import random\n",
        "import torch\n",
        "import torch.nn as nn\n",
        "import torch.optim as optim\n",
        "import seaborn as sns\n",
        "\n",
        "%matplotlib inline"
      ],
      "execution_count": 1,
      "outputs": []
    },
    {
      "cell_type": "code",
      "metadata": {
        "id": "2rEt3kXXxnbx"
      },
      "source": [
        "import tensorflow as tf\n",
        "from tensorflow import keras\n",
        "from tensorflow.keras.models import Sequential\n",
        "from tensorflow.keras.optimizers import Adam\n",
        "\n",
        "import keras.layers.advanced_activations as advanced_activations\n",
        "import keras.activations as activations\n",
        "import keras.layers as layers\n",
        "from keras.layers import Dense, concatenate"
      ],
      "execution_count": 2,
      "outputs": []
    },
    {
      "cell_type": "code",
      "metadata": {
        "id": "oVZZtAYAFGIG"
      },
      "source": [
        "import scipy.spatial.distance as distance\n",
        "def plot_mat_accuracy(input, y_hat, y_true):\n",
        "\n",
        "  input = input\n",
        "  y_hat = y_hat\n",
        "  y_true = y_true\n",
        "\n",
        "  dist = distance.cosine(y_hat.flatten(), y_true.flatten())\n",
        "\n",
        "  fig, axs = plt.subplots(1,3)\n",
        "  fig.suptitle('Accuracy: {}'.format(1 - dist))\n",
        "  \n",
        "  axs[0].set_title(\"Input\")\n",
        "  axs[0].matshow(input)\n",
        "\n",
        "  axs[1].set_title(\"Y_hat\")\n",
        "  axs[1].matshow(y_hat)\n",
        "\n",
        "  axs[2].set_title(\"Y_true\")\n",
        "  axs[2].matshow(y_true)\n",
        "  \n",
        "  for ax in axs:\n",
        "    ax.set_xticks([])\n",
        "    ax.set_yticks([])\n",
        "\n",
        "  plt.show()\n",
        "      \n",
        "  return 1 - dist\n",
        "\n",
        "def get_mat_accuracy(y_hat, y_true):\n",
        "  dist = distance.cosine(y_hat.flatten(), y_true.flatten())\n",
        "  return 1 - dist"
      ],
      "execution_count": 3,
      "outputs": []
    },
    {
      "cell_type": "markdown",
      "metadata": {
        "id": "v5kuFuMwLsvI"
      },
      "source": [
        "### Data Import"
      ]
    },
    {
      "cell_type": "code",
      "metadata": {
        "colab": {
          "base_uri": "https://localhost:8080/"
        },
        "id": "zPU8TnrRL1nX",
        "outputId": "643bbb42-155b-4772-cca8-72c5cc726668"
      },
      "source": [
        "from google.colab import drive\n",
        "drive.mount('/content/drive/')\n",
        "\n",
        "%cd drive/My\\ Drive/SWE"
      ],
      "execution_count": 4,
      "outputs": [
        {
          "output_type": "stream",
          "text": [
            "Drive already mounted at /content/drive/; to attempt to forcibly remount, call drive.mount(\"/content/drive/\", force_remount=True).\n",
            "/content/drive/My Drive/SWE\n"
          ],
          "name": "stdout"
        }
      ]
    },
    {
      "cell_type": "code",
      "metadata": {
        "colab": {
          "base_uri": "https://localhost:8080/"
        },
        "id": "ZQpFsZoyyjnf",
        "outputId": "f7d752e0-50e9-4d08-c697-87696a244abb"
      },
      "source": [
        "portate = np.load('datasets/numpy/portate.npy')\n",
        "print(portate.shape)\n",
        "\n",
        "binaries = np.load('datasets/numpy/binaries.npy')\n",
        "print(binaries.shape)\n",
        "\n",
        "btms = np.load('datasets/numpy/btms.npy')\n",
        "print(btms.shape)"
      ],
      "execution_count": 5,
      "outputs": [
        {
          "output_type": "stream",
          "text": [
            "(100, 1, 3, 4)\n",
            "(100, 1, 443, 640)\n",
            "(100, 1, 448, 640)\n"
          ],
          "name": "stdout"
        }
      ]
    },
    {
      "cell_type": "markdown",
      "metadata": {
        "id": "yZOOciWS4jnV"
      },
      "source": [
        "### Data Preprocessing\n",
        "L'input del modello é formato da 2 tipologie di dato concatenate:\n",
        "*   Matrice BTM (ad 1/3 della risoluzione originale)\n",
        "*   Vettore serie di portate nel tempo\n",
        "\n"
      ]
    },
    {
      "cell_type": "code",
      "metadata": {
        "id": "Wbfk5NjflB0f"
      },
      "source": [
        "portate = portate[:, :, :, 2]"
      ],
      "execution_count": 6,
      "outputs": []
    },
    {
      "cell_type": "markdown",
      "metadata": {
        "id": "vbhaYCbQG8fD"
      },
      "source": [
        "#### Resizing"
      ]
    },
    {
      "cell_type": "code",
      "metadata": {
        "id": "VnCn2y0Fj1PN"
      },
      "source": [
        "from skimage.transform import resize"
      ],
      "execution_count": 7,
      "outputs": []
    },
    {
      "cell_type": "code",
      "metadata": {
        "id": "RaPZblvEj7eA",
        "colab": {
          "base_uri": "https://localhost:8080/",
          "height": 35
        },
        "outputId": "62e1801c-fe17-43a2-f0a5-b0a4cc85a54a"
      },
      "source": [
        "\n",
        "FACTOR = 0.3\n",
        "\n",
        "binaries = np.array(\n",
        "    [resize(s[0], (int(s[0].shape[0] * FACTOR), int(s[0].shape[1] * FACTOR))) for s in binaries]\n",
        ")\n",
        "\n",
        "btms = np.array(\n",
        "    [resize(s[0], (int(s[0].shape[0] * FACTOR), int(s[0].shape[1] * FACTOR))) for s in btms]\n",
        ")\n",
        "'''\n",
        "\n",
        "binaries = binaries[:, 0, :, :]\n",
        "btms = btms[:, 0, :, :]\n",
        "'''"
      ],
      "execution_count": 8,
      "outputs": [
        {
          "output_type": "execute_result",
          "data": {
            "application/vnd.google.colaboratory.intrinsic+json": {
              "type": "string"
            },
            "text/plain": [
              "'\\n\\nbinaries = binaries[:, 0, :, :]\\nbtms = btms[:, 0, :, :]\\n'"
            ]
          },
          "metadata": {
            "tags": []
          },
          "execution_count": 8
        }
      ]
    },
    {
      "cell_type": "code",
      "metadata": {
        "colab": {
          "base_uri": "https://localhost:8080/"
        },
        "id": "DMqly95A6Uu2",
        "outputId": "43906570-3747-4fb7-a6d1-6c3f902ae9a5"
      },
      "source": [
        "print(binaries.shape)\n",
        "print(btms.shape)"
      ],
      "execution_count": 9,
      "outputs": [
        {
          "output_type": "stream",
          "text": [
            "(100, 132, 192)\n",
            "(100, 134, 192)\n"
          ],
          "name": "stdout"
        }
      ]
    },
    {
      "cell_type": "code",
      "metadata": {
        "colab": {
          "base_uri": "https://localhost:8080/",
          "height": 292
        },
        "id": "MC3JAQgzkjRY",
        "outputId": "fe314bd4-654c-4b4d-9599-0af6f43b4cb6"
      },
      "source": [
        "plt.matshow(binaries[0])"
      ],
      "execution_count": 10,
      "outputs": [
        {
          "output_type": "execute_result",
          "data": {
            "text/plain": [
              "<matplotlib.image.AxesImage at 0x7f404631bd68>"
            ]
          },
          "metadata": {
            "tags": []
          },
          "execution_count": 10
        },
        {
          "output_type": "display_data",
          "data": {
            "image/png": "[encoded data removed]",
            "text/plain": [
              "<Figure size 418.909x288 with 1 Axes>"
            ]
          },
          "metadata": {
            "tags": [],
            "needs_background": "light"
          }
        }
      ]
    },
    {
      "cell_type": "markdown",
      "metadata": {
        "id": "T2arPwN4CI_y"
      },
      "source": [
        "#### Concatenating"
      ]
    },
    {
      "cell_type": "code",
      "metadata": {
        "id": "NQvUP1nKQJkI"
      },
      "source": [
        "model_in_shape = portate.shape[2] + (btms.shape[1] * btms.shape[2])\n",
        "model_out_shape = binaries.shape[1] * binaries.shape[2]"
      ],
      "execution_count": 11,
      "outputs": []
    },
    {
      "cell_type": "code",
      "metadata": {
        "id": "ohiogWGg6oUE"
      },
      "source": [
        "# 100, model_in_shape (es: 300x300 + 3)\n",
        "inputs = np.zeros((portate.shape[0], model_in_shape))\n",
        "img_shape = model_in_shape - portate.shape[2]\n",
        "\n",
        "for i in range(100):\n",
        "  # Copia immagine flattened\n",
        "  inputs[i][:img_shape] = btms[i].flatten()\n",
        "  # Copia dati portata\n",
        "  inputs[i][img_shape:] = portate[i][0]"
      ],
      "execution_count": 12,
      "outputs": []
    },
    {
      "cell_type": "code",
      "metadata": {
        "id": "sSOeFUJPIsas"
      },
      "source": [
        "TRAIN_SIZE = int(inputs.shape[0] * 0.8)\n",
        "\n",
        "x_train, y_train = inputs[:TRAIN_SIZE], binaries[:TRAIN_SIZE]\n",
        "x_test, y_test = inputs[TRAIN_SIZE:], binaries[TRAIN_SIZE:]"
      ],
      "execution_count": 13,
      "outputs": []
    },
    {
      "cell_type": "markdown",
      "metadata": {
        "id": "-eKgVBcWKP6X"
      },
      "source": [
        "### Feed Forward"
      ]
    },
    {
      "cell_type": "code",
      "metadata": {
        "colab": {
          "base_uri": "https://localhost:8080/"
        },
        "id": "Ew2UQXNV4pnw",
        "outputId": "6a8339da-a81f-4997-bdb8-81a573bfb244"
      },
      "source": [
        "model = Sequential(\n",
        "    [\n",
        "        layers.Input(model_in_shape),\n",
        "        layers.BatchNormalization(),\n",
        "     \n",
        "        layers.Dense(128),\n",
        "        layers.BatchNormalization(),\n",
        "     \n",
        "        layers.Dense(256),\n",
        "        layers.BatchNormalization(),\n",
        "     \n",
        "        layers.Dense(128),\n",
        "        layers.BatchNormalization(),\n",
        "     \n",
        "        layers.Dense(model_out_shape),\n",
        "        layers.Activation(activations.sigmoid),\n",
        "     \n",
        "        layers.Reshape((binaries.shape[1], binaries.shape[2]))\n",
        "     \n",
        "    ]\n",
        ")\n",
        "\n",
        "model.compile(optimizer=\"Adam\", loss=\"binary_crossentropy\", metrics=[\"cosine_similarity\"])\n",
        "model.summary()"
      ],
      "execution_count": 14,
      "outputs": [
        {
          "output_type": "stream",
          "text": [
            "Model: \"sequential\"\n",
            "_________________________________________________________________\n",
            "Layer (type)                 Output Shape              Param #   \n",
            "=================================================================\n",
            "batch_normalization (BatchNo (None, 25731)             102924    \n",
            "_________________________________________________________________\n",
            "dense (Dense)                (None, 128)               3293696   \n",
            "_________________________________________________________________\n",
            "batch_normalization_1 (Batch (None, 128)               512       \n",
            "_________________________________________________________________\n",
            "dense_1 (Dense)              (None, 256)               33024     \n",
            "_________________________________________________________________\n",
            "batch_normalization_2 (Batch (None, 256)               1024      \n",
            "_________________________________________________________________\n",
            "dense_2 (Dense)              (None, 128)               32896     \n",
            "_________________________________________________________________\n",
            "batch_normalization_3 (Batch (None, 128)               512       \n",
            "_________________________________________________________________\n",
            "dense_3 (Dense)              (None, 25344)             3269376   \n",
            "_________________________________________________________________\n",
            "activation (Activation)      (None, 25344)             0         \n",
            "_________________________________________________________________\n",
            "reshape (Reshape)            (None, 132, 192)          0         \n",
            "=================================================================\n",
            "Total params: 6,733,964\n",
            "Trainable params: 6,681,478\n",
            "Non-trainable params: 52,486\n",
            "_________________________________________________________________\n"
          ],
          "name": "stdout"
        }
      ]
    },
    {
      "cell_type": "code",
      "metadata": {
        "id": "IuRM6XTnUzRA",
        "colab": {
          "base_uri": "https://localhost:8080/"
        },
        "outputId": "cc3c273b-ab40-48dc-e2ca-e9dfe1cd20e9"
      },
      "source": [
        "epochs = 100\n",
        "\n",
        "model.fit(\n",
        "    x_train,\n",
        "    y_train,\n",
        "    batch_size=4,\n",
        "    epochs=epochs,\n",
        "    verbose=2,\n",
        "    shuffle=1,\n",
        "    validation_split=0.2,\n",
        ")"
      ],
      "execution_count": 15,
      "outputs": [
        {
          "output_type": "stream",
          "text": [
            "Epoch 1/100\n",
            "16/16 - 2s - loss: 0.6772 - cosine_similarity: 0.2928 - val_loss: 0.6811 - val_cosine_similarity: 0.4139\n",
            "Epoch 2/100\n",
            "16/16 - 0s - loss: 0.6605 - cosine_similarity: 0.2978 - val_loss: 0.8677 - val_cosine_similarity: 0.3891\n",
            "Epoch 3/100\n",
            "16/16 - 0s - loss: 0.6403 - cosine_similarity: 0.3055 - val_loss: 1.5633 - val_cosine_similarity: 0.3309\n",
            "Epoch 4/100\n",
            "16/16 - 0s - loss: 0.6012 - cosine_similarity: 0.3145 - val_loss: 3.0755 - val_cosine_similarity: 0.3028\n",
            "Epoch 5/100\n",
            "16/16 - 0s - loss: 0.5273 - cosine_similarity: 0.3360 - val_loss: 5.5560 - val_cosine_similarity: 0.2904\n",
            "Epoch 6/100\n",
            "16/16 - 0s - loss: 0.4309 - cosine_similarity: 0.3666 - val_loss: 8.3033 - val_cosine_similarity: 0.2882\n",
            "Epoch 7/100\n",
            "16/16 - 0s - loss: 0.3218 - cosine_similarity: 0.4049 - val_loss: 11.7779 - val_cosine_similarity: 0.2857\n",
            "Epoch 8/100\n",
            "16/16 - 0s - loss: 0.2367 - cosine_similarity: 0.4390 - val_loss: 12.0994 - val_cosine_similarity: 0.2819\n",
            "Epoch 9/100\n",
            "16/16 - 0s - loss: 0.1804 - cosine_similarity: 0.4615 - val_loss: 12.3710 - val_cosine_similarity: 0.2740\n",
            "Epoch 10/100\n",
            "16/16 - 0s - loss: 0.1424 - cosine_similarity: 0.4795 - val_loss: 12.4077 - val_cosine_similarity: 0.2732\n",
            "Epoch 11/100\n",
            "16/16 - 0s - loss: 0.1259 - cosine_similarity: 0.4935 - val_loss: 12.4652 - val_cosine_similarity: 0.2703\n",
            "Epoch 12/100\n",
            "16/16 - 0s - loss: 0.1134 - cosine_similarity: 0.5061 - val_loss: 12.5019 - val_cosine_similarity: 0.2668\n",
            "Epoch 13/100\n",
            "16/16 - 0s - loss: 0.0969 - cosine_similarity: 0.5213 - val_loss: 12.5650 - val_cosine_similarity: 0.2666\n",
            "Epoch 14/100\n",
            "16/16 - 0s - loss: 0.1021 - cosine_similarity: 0.5277 - val_loss: 12.5740 - val_cosine_similarity: 0.2635\n",
            "Epoch 15/100\n",
            "16/16 - 0s - loss: 0.0861 - cosine_similarity: 0.5460 - val_loss: 12.5670 - val_cosine_similarity: 0.2670\n",
            "Epoch 16/100\n",
            "16/16 - 0s - loss: 0.0801 - cosine_similarity: 0.5571 - val_loss: 12.5579 - val_cosine_similarity: 0.2691\n",
            "Epoch 17/100\n",
            "16/16 - 0s - loss: 0.0772 - cosine_similarity: 0.5683 - val_loss: 12.6255 - val_cosine_similarity: 0.2629\n",
            "Epoch 18/100\n",
            "16/16 - 0s - loss: 0.0857 - cosine_similarity: 0.5709 - val_loss: 12.6654 - val_cosine_similarity: 0.2584\n",
            "Epoch 19/100\n",
            "16/16 - 0s - loss: 0.0721 - cosine_similarity: 0.5812 - val_loss: 12.6189 - val_cosine_similarity: 0.2648\n",
            "Epoch 20/100\n",
            "16/16 - 0s - loss: 0.0735 - cosine_similarity: 0.5888 - val_loss: 12.5235 - val_cosine_similarity: 0.2740\n",
            "Epoch 21/100\n",
            "16/16 - 0s - loss: 0.0736 - cosine_similarity: 0.5935 - val_loss: 12.4789 - val_cosine_similarity: 0.2747\n",
            "Epoch 22/100\n",
            "16/16 - 0s - loss: 0.0729 - cosine_similarity: 0.5989 - val_loss: 12.4830 - val_cosine_similarity: 0.2747\n",
            "Epoch 23/100\n",
            "16/16 - 0s - loss: 0.0670 - cosine_similarity: 0.6049 - val_loss: 12.4234 - val_cosine_similarity: 0.2825\n",
            "Epoch 24/100\n",
            "16/16 - 0s - loss: 0.0760 - cosine_similarity: 0.6031 - val_loss: 12.3940 - val_cosine_similarity: 0.2839\n",
            "Epoch 25/100\n",
            "16/16 - 0s - loss: 0.0702 - cosine_similarity: 0.6091 - val_loss: 12.3412 - val_cosine_similarity: 0.2888\n",
            "Epoch 26/100\n",
            "16/16 - 0s - loss: 0.0604 - cosine_similarity: 0.6162 - val_loss: 12.2982 - val_cosine_similarity: 0.2931\n",
            "Epoch 27/100\n",
            "16/16 - 0s - loss: 0.0775 - cosine_similarity: 0.6112 - val_loss: 12.3399 - val_cosine_similarity: 0.2892\n",
            "Epoch 28/100\n",
            "16/16 - 0s - loss: 0.0719 - cosine_similarity: 0.6145 - val_loss: 12.2785 - val_cosine_similarity: 0.2927\n",
            "Epoch 29/100\n",
            "16/16 - 0s - loss: 0.0597 - cosine_similarity: 0.6233 - val_loss: 12.2523 - val_cosine_similarity: 0.2970\n",
            "Epoch 30/100\n",
            "16/16 - 0s - loss: 0.0602 - cosine_similarity: 0.6245 - val_loss: 12.2084 - val_cosine_similarity: 0.3016\n",
            "Epoch 31/100\n",
            "16/16 - 0s - loss: 0.0696 - cosine_similarity: 0.6207 - val_loss: 12.1933 - val_cosine_similarity: 0.3023\n",
            "Epoch 32/100\n",
            "16/16 - 0s - loss: 0.0615 - cosine_similarity: 0.6250 - val_loss: 12.1898 - val_cosine_similarity: 0.3029\n",
            "Epoch 33/100\n",
            "16/16 - 0s - loss: 0.0561 - cosine_similarity: 0.6299 - val_loss: 12.2320 - val_cosine_similarity: 0.2963\n",
            "Epoch 34/100\n",
            "16/16 - 0s - loss: 0.0553 - cosine_similarity: 0.6319 - val_loss: 12.1928 - val_cosine_similarity: 0.3008\n",
            "Epoch 35/100\n",
            "16/16 - 0s - loss: 0.0586 - cosine_similarity: 0.6317 - val_loss: 12.1406 - val_cosine_similarity: 0.3056\n",
            "Epoch 36/100\n",
            "16/16 - 0s - loss: 0.0728 - cosine_similarity: 0.6258 - val_loss: 12.0280 - val_cosine_similarity: 0.3088\n",
            "Epoch 37/100\n",
            "16/16 - 0s - loss: 0.0614 - cosine_similarity: 0.6308 - val_loss: 12.0382 - val_cosine_similarity: 0.3078\n",
            "Epoch 38/100\n",
            "16/16 - 0s - loss: 0.0558 - cosine_similarity: 0.6341 - val_loss: 11.6684 - val_cosine_similarity: 0.3115\n",
            "Epoch 39/100\n",
            "16/16 - 0s - loss: 0.0680 - cosine_similarity: 0.6291 - val_loss: 9.1756 - val_cosine_similarity: 0.3153\n",
            "Epoch 40/100\n",
            "16/16 - 0s - loss: 0.0621 - cosine_similarity: 0.6318 - val_loss: 10.0027 - val_cosine_similarity: 0.3141\n",
            "Epoch 41/100\n",
            "16/16 - 0s - loss: 0.0636 - cosine_similarity: 0.6315 - val_loss: 8.6717 - val_cosine_similarity: 0.3159\n",
            "Epoch 42/100\n",
            "16/16 - 0s - loss: 0.0606 - cosine_similarity: 0.6341 - val_loss: 6.5895 - val_cosine_similarity: 0.3176\n",
            "Epoch 43/100\n",
            "16/16 - 0s - loss: 0.0592 - cosine_similarity: 0.6363 - val_loss: 5.9452 - val_cosine_similarity: 0.3180\n",
            "Epoch 44/100\n",
            "16/16 - 0s - loss: 0.0655 - cosine_similarity: 0.6337 - val_loss: 4.7221 - val_cosine_similarity: 0.3203\n",
            "Epoch 45/100\n",
            "16/16 - 0s - loss: 0.0593 - cosine_similarity: 0.6386 - val_loss: 2.6168 - val_cosine_similarity: 0.3331\n",
            "Epoch 46/100\n",
            "16/16 - 0s - loss: 0.0606 - cosine_similarity: 0.6373 - val_loss: 1.0845 - val_cosine_similarity: 0.3948\n",
            "Epoch 47/100\n",
            "16/16 - 0s - loss: 0.0756 - cosine_similarity: 0.6305 - val_loss: 1.5255 - val_cosine_similarity: 0.3630\n",
            "Epoch 48/100\n",
            "16/16 - 0s - loss: 0.0663 - cosine_similarity: 0.6356 - val_loss: 0.4136 - val_cosine_similarity: 0.4922\n",
            "Epoch 49/100\n",
            "16/16 - 0s - loss: 0.0740 - cosine_similarity: 0.6304 - val_loss: 0.2285 - val_cosine_similarity: 0.5629\n",
            "Epoch 50/100\n",
            "16/16 - 0s - loss: 0.0669 - cosine_similarity: 0.6343 - val_loss: 4.4110 - val_cosine_similarity: 0.3211\n",
            "Epoch 51/100\n",
            "16/16 - 0s - loss: 0.0600 - cosine_similarity: 0.6386 - val_loss: 1.3669 - val_cosine_similarity: 0.3762\n",
            "Epoch 52/100\n",
            "16/16 - 0s - loss: 0.0614 - cosine_similarity: 0.6405 - val_loss: 0.0716 - val_cosine_similarity: 0.6924\n",
            "Epoch 53/100\n",
            "16/16 - 0s - loss: 0.0608 - cosine_similarity: 0.6420 - val_loss: 0.0588 - val_cosine_similarity: 0.7166\n",
            "Epoch 54/100\n",
            "16/16 - 0s - loss: 0.0679 - cosine_similarity: 0.6367 - val_loss: 0.0570 - val_cosine_similarity: 0.7227\n",
            "Epoch 55/100\n",
            "16/16 - 0s - loss: 0.0751 - cosine_similarity: 0.6348 - val_loss: 0.0559 - val_cosine_similarity: 0.7132\n",
            "Epoch 56/100\n",
            "16/16 - 0s - loss: 0.0654 - cosine_similarity: 0.6390 - val_loss: 0.0563 - val_cosine_similarity: 0.7244\n",
            "Epoch 57/100\n",
            "16/16 - 0s - loss: 0.0604 - cosine_similarity: 0.6428 - val_loss: 0.0523 - val_cosine_similarity: 0.7188\n",
            "Epoch 58/100\n",
            "16/16 - 0s - loss: 0.0611 - cosine_similarity: 0.6416 - val_loss: 0.0634 - val_cosine_similarity: 0.7226\n",
            "Epoch 59/100\n",
            "16/16 - 0s - loss: 0.0690 - cosine_similarity: 0.6367 - val_loss: 0.0521 - val_cosine_similarity: 0.7148\n",
            "Epoch 60/100\n",
            "16/16 - 0s - loss: 0.0588 - cosine_similarity: 0.6439 - val_loss: 0.0586 - val_cosine_similarity: 0.7239\n",
            "Epoch 61/100\n",
            "16/16 - 0s - loss: 0.0646 - cosine_similarity: 0.6434 - val_loss: 0.0498 - val_cosine_similarity: 0.7233\n",
            "Epoch 62/100\n",
            "16/16 - 0s - loss: 0.0600 - cosine_similarity: 0.6448 - val_loss: 0.0508 - val_cosine_similarity: 0.7192\n",
            "Epoch 63/100\n",
            "16/16 - 0s - loss: 0.0752 - cosine_similarity: 0.6381 - val_loss: 0.5830 - val_cosine_similarity: 0.4901\n",
            "Epoch 64/100\n",
            "16/16 - 0s - loss: 0.0624 - cosine_similarity: 0.6451 - val_loss: 2.5485 - val_cosine_similarity: 0.3570\n",
            "Epoch 65/100\n",
            "16/16 - 0s - loss: 0.0586 - cosine_similarity: 0.6462 - val_loss: 0.8556 - val_cosine_similarity: 0.4564\n",
            "Epoch 66/100\n",
            "16/16 - 0s - loss: 0.0564 - cosine_similarity: 0.6479 - val_loss: 0.0557 - val_cosine_similarity: 0.7079\n",
            "Epoch 67/100\n",
            "16/16 - 0s - loss: 0.0697 - cosine_similarity: 0.6418 - val_loss: 0.0521 - val_cosine_similarity: 0.7198\n",
            "Epoch 68/100\n",
            "16/16 - 0s - loss: 0.0537 - cosine_similarity: 0.6500 - val_loss: 0.0650 - val_cosine_similarity: 0.6993\n",
            "Epoch 69/100\n",
            "16/16 - 0s - loss: 0.0554 - cosine_similarity: 0.6497 - val_loss: 0.0557 - val_cosine_similarity: 0.7260\n",
            "Epoch 70/100\n",
            "16/16 - 0s - loss: 0.0730 - cosine_similarity: 0.6414 - val_loss: 0.0498 - val_cosine_similarity: 0.7252\n",
            "Epoch 71/100\n",
            "16/16 - 0s - loss: 0.0658 - cosine_similarity: 0.6439 - val_loss: 0.0584 - val_cosine_similarity: 0.7253\n",
            "Epoch 72/100\n",
            "16/16 - 0s - loss: 0.0643 - cosine_similarity: 0.6455 - val_loss: 0.0516 - val_cosine_similarity: 0.7243\n",
            "Epoch 73/100\n",
            "16/16 - 0s - loss: 0.0555 - cosine_similarity: 0.6509 - val_loss: 0.0513 - val_cosine_similarity: 0.7247\n",
            "Epoch 74/100\n",
            "16/16 - 0s - loss: 0.0580 - cosine_similarity: 0.6505 - val_loss: 0.0570 - val_cosine_similarity: 0.7273\n",
            "Epoch 75/100\n",
            "16/16 - 0s - loss: 0.0673 - cosine_similarity: 0.6491 - val_loss: 0.0474 - val_cosine_similarity: 0.7242\n",
            "Epoch 76/100\n",
            "16/16 - 0s - loss: 0.0646 - cosine_similarity: 0.6464 - val_loss: 0.0873 - val_cosine_similarity: 0.7204\n",
            "Epoch 77/100\n",
            "16/16 - 0s - loss: 0.0618 - cosine_similarity: 0.6484 - val_loss: 0.0599 - val_cosine_similarity: 0.7285\n",
            "Epoch 78/100\n",
            "16/16 - 0s - loss: 0.0662 - cosine_similarity: 0.6477 - val_loss: 0.0547 - val_cosine_similarity: 0.7287\n",
            "Epoch 79/100\n",
            "16/16 - 0s - loss: 0.0641 - cosine_similarity: 0.6474 - val_loss: 0.0690 - val_cosine_similarity: 0.7269\n",
            "Epoch 80/100\n",
            "16/16 - 0s - loss: 0.0548 - cosine_similarity: 0.6526 - val_loss: 0.0587 - val_cosine_similarity: 0.7297\n",
            "Epoch 81/100\n",
            "16/16 - 0s - loss: 0.0579 - cosine_similarity: 0.6525 - val_loss: 0.0578 - val_cosine_similarity: 0.7302\n",
            "Epoch 82/100\n",
            "16/16 - 0s - loss: 0.0559 - cosine_similarity: 0.6540 - val_loss: 0.0530 - val_cosine_similarity: 0.7288\n",
            "Epoch 83/100\n",
            "16/16 - 0s - loss: 0.0634 - cosine_similarity: 0.6501 - val_loss: 0.0531 - val_cosine_similarity: 0.7300\n",
            "Epoch 84/100\n",
            "16/16 - 0s - loss: 0.0556 - cosine_similarity: 0.6536 - val_loss: 0.0587 - val_cosine_similarity: 0.7301\n",
            "Epoch 85/100\n",
            "16/16 - 0s - loss: 0.0633 - cosine_similarity: 0.6517 - val_loss: 0.0553 - val_cosine_similarity: 0.7308\n",
            "Epoch 86/100\n",
            "16/16 - 0s - loss: 0.0675 - cosine_similarity: 0.6481 - val_loss: 0.0527 - val_cosine_similarity: 0.7296\n",
            "Epoch 87/100\n",
            "16/16 - 0s - loss: 0.0546 - cosine_similarity: 0.6548 - val_loss: 0.0517 - val_cosine_similarity: 0.7306\n",
            "Epoch 88/100\n",
            "16/16 - 0s - loss: 0.0764 - cosine_similarity: 0.6446 - val_loss: 0.0590 - val_cosine_similarity: 0.7307\n",
            "Epoch 89/100\n",
            "16/16 - 0s - loss: 0.0823 - cosine_similarity: 0.6408 - val_loss: 0.0795 - val_cosine_similarity: 0.6701\n",
            "Epoch 90/100\n",
            "16/16 - 0s - loss: 0.0707 - cosine_similarity: 0.6434 - val_loss: 0.0572 - val_cosine_similarity: 0.7209\n",
            "Epoch 91/100\n",
            "16/16 - 0s - loss: 0.0657 - cosine_similarity: 0.6478 - val_loss: 0.0681 - val_cosine_similarity: 0.7296\n",
            "Epoch 92/100\n",
            "16/16 - 0s - loss: 0.0605 - cosine_similarity: 0.6518 - val_loss: 0.0880 - val_cosine_similarity: 0.7194\n",
            "Epoch 93/100\n",
            "16/16 - 0s - loss: 0.0619 - cosine_similarity: 0.6508 - val_loss: 0.1267 - val_cosine_similarity: 0.6494\n",
            "Epoch 94/100\n",
            "16/16 - 0s - loss: 0.0679 - cosine_similarity: 0.6489 - val_loss: 0.1333 - val_cosine_similarity: 0.6498\n",
            "Epoch 95/100\n",
            "16/16 - 0s - loss: 0.0619 - cosine_similarity: 0.6513 - val_loss: 0.0674 - val_cosine_similarity: 0.6955\n",
            "Epoch 96/100\n",
            "16/16 - 0s - loss: 0.0602 - cosine_similarity: 0.6527 - val_loss: 0.0623 - val_cosine_similarity: 0.7096\n",
            "Epoch 97/100\n",
            "16/16 - 0s - loss: 0.0512 - cosine_similarity: 0.6582 - val_loss: 0.0616 - val_cosine_similarity: 0.7156\n",
            "Epoch 98/100\n",
            "16/16 - 0s - loss: 0.0637 - cosine_similarity: 0.6531 - val_loss: 0.0552 - val_cosine_similarity: 0.7220\n",
            "Epoch 99/100\n",
            "16/16 - 0s - loss: 0.0601 - cosine_similarity: 0.6549 - val_loss: 0.0515 - val_cosine_similarity: 0.7301\n",
            "Epoch 100/100\n",
            "16/16 - 0s - loss: 0.0550 - cosine_similarity: 0.6579 - val_loss: 0.0532 - val_cosine_similarity: 0.7290\n"
          ],
          "name": "stdout"
        },
        {
          "output_type": "execute_result",
          "data": {
            "text/plain": [
              "<tensorflow.python.keras.callbacks.History at 0x7f403032a2b0>"
            ]
          },
          "metadata": {
            "tags": []
          },
          "execution_count": 15
        }
      ]
    },
    {
      "cell_type": "code",
      "metadata": {
        "colab": {
          "base_uri": "https://localhost:8080/"
        },
        "id": "WxLYb02wl3Zd",
        "outputId": "943f2f6e-c12b-40c2-8178-4a271d7f0f13"
      },
      "source": [
        "model.evaluate(x_test, y_test)"
      ],
      "execution_count": 16,
      "outputs": [
        {
          "output_type": "stream",
          "text": [
            "1/1 [==============================] - 0s 155ms/step - loss: 0.1324 - cosine_similarity: 0.7089\n"
          ],
          "name": "stdout"
        },
        {
          "output_type": "execute_result",
          "data": {
            "text/plain": [
              "[0.13244977593421936, 0.7089092135429382]"
            ]
          },
          "metadata": {
            "tags": []
          },
          "execution_count": 16
        }
      ]
    },
    {
      "cell_type": "code",
      "metadata": {
        "id": "wI1ErS1j-ctQ"
      },
      "source": [
        "# btms 0 + portate 0\n",
        "index = 0\n",
        "res = model.predict(np.array([x_test[index]]))"
      ],
      "execution_count": 17,
      "outputs": []
    },
    {
      "cell_type": "code",
      "metadata": {
        "colab": {
          "base_uri": "https://localhost:8080/",
          "height": 336
        },
        "id": "OVWpYrKaERwy",
        "outputId": "7cfdd638-e6ec-4b17-a040-98c798f09bf9"
      },
      "source": [
        "# Noto che la rete ha polarizzato i valori! (YAY!)\n",
        "sns.distplot(res[0].flatten())"
      ],
      "execution_count": 18,
      "outputs": [
        {
          "output_type": "stream",
          "text": [
            "/usr/local/lib/python3.6/dist-packages/seaborn/distributions.py:2557: FutureWarning: `distplot` is a deprecated function and will be removed in a future version. Please adapt your code to use either `displot` (a figure-level function with similar flexibility) or `histplot` (an axes-level function for histograms).\n",
            "  warnings.warn(msg, FutureWarning)\n"
          ],
          "name": "stderr"
        },
        {
          "output_type": "execute_result",
          "data": {
            "text/plain": [
              "<matplotlib.axes._subplots.AxesSubplot at 0x7f3fe465c080>"
            ]
          },
          "metadata": {
            "tags": []
          },
          "execution_count": 18
        },
        {
          "output_type": "display_data",
          "data": {
            "image/png": "[encoded data removed]",
            "text/plain": [
              "<Figure size 432x288 with 1 Axes>"
            ]
          },
          "metadata": {
            "tags": [],
            "needs_background": "light"
          }
        }
      ]
    },
    {
      "cell_type": "code",
      "metadata": {
        "id": "7rjIu1i1Es3u"
      },
      "source": [
        "# Approssimo i valori a binario in base ad una soglia\n",
        "THRSHLD = 0.8\n",
        "\n",
        "res[res >= THRSHLD] = 1\n",
        "res[res < THRSHLD] = 0"
      ],
      "execution_count": 19,
      "outputs": []
    },
    {
      "cell_type": "code",
      "metadata": {
        "colab": {
          "base_uri": "https://localhost:8080/",
          "height": 223
        },
        "id": "oDQwWZ6zE2T4",
        "outputId": "8e00b5ec-58bb-49b1-98b2-20c0ed9c4700"
      },
      "source": [
        "plot_mat_accuracy(\n",
        "    x_test[index][:img_shape].reshape(btms.shape[1], btms.shape[2]),\n",
        "    res[0],\n",
        "    y_test[index]\n",
        ")"
      ],
      "execution_count": 20,
      "outputs": [
        {
          "output_type": "display_data",
          "data": {
            "image/png": "[encoded data removed]",
            "text/plain": [
              "<Figure size 432x288 with 3 Axes>"
            ]
          },
          "metadata": {
            "tags": []
          }
        },
        {
          "output_type": "execute_result",
          "data": {
            "text/plain": [
              "0.9798614382743835"
            ]
          },
          "metadata": {
            "tags": []
          },
          "execution_count": 20
        }
      ]
    },
    {
      "cell_type": "code",
      "metadata": {
        "colab": {
          "base_uri": "https://localhost:8080/",
          "height": 86
        },
        "id": "BPzRug7oL9yh",
        "outputId": "7bae0e05-9e4f-4c61-ab9f-59e0a934996a"
      },
      "source": [
        "'''\n",
        "# Test Loss\n",
        "test_losses = np.zeros(x_test.shape[0])\n",
        "\n",
        "for i, x in enumerate(x_test):\n",
        "  y_hat = model.predict(np.array([x]))\n",
        "  y_true = y_test[i]\n",
        "\n",
        "  test_losses[i] = get_mat_accuracy(y_hat, y_true)\n",
        "\n",
        "# Train loss\n",
        "train_losses = np.zeros(x_train.shape[0])\n",
        "\n",
        "for i, x in enumerate(x_train):\n",
        "  y_hat = model.predict(np.array([x]))\n",
        "  y_true = y_train[i]\n",
        "\n",
        "  train_losses[i] = get_mat_accuracy(y_hat, y_true)\n",
        "\n",
        "\n",
        "print(\"Train accuracy: {}\".format(train_losses.mean()))\n",
        "print(\"Test accuracy: {}\".format(test_losses.mean()))\n",
        "'''"
      ],
      "execution_count": 21,
      "outputs": [
        {
          "output_type": "execute_result",
          "data": {
            "application/vnd.google.colaboratory.intrinsic+json": {
              "type": "string"
            },
            "text/plain": [
              "'\\n# Test Loss\\ntest_losses = np.zeros(x_test.shape[0])\\n\\nfor i, x in enumerate(x_test):\\n  y_hat = model.predict(np.array([x]))\\n  y_true = y_test[i]\\n\\n  test_losses[i] = get_mat_accuracy(y_hat, y_true)\\n\\n# Train loss\\ntrain_losses = np.zeros(x_train.shape[0])\\n\\nfor i, x in enumerate(x_train):\\n  y_hat = model.predict(np.array([x]))\\n  y_true = y_train[i]\\n\\n  train_losses[i] = get_mat_accuracy(y_hat, y_true)\\n\\n\\nprint(\"Train accuracy: {}\".format(train_losses.mean()))\\nprint(\"Test accuracy: {}\".format(test_losses.mean()))\\n'"
            ]
          },
          "metadata": {
            "tags": []
          },
          "execution_count": 21
        }
      ]
    },
    {
      "cell_type": "code",
      "metadata": {
        "colab": {
          "base_uri": "https://localhost:8080/",
          "height": 86
        },
        "id": "PQkac21koWdy",
        "outputId": "df224040-a186-4e64-c9d3-7619f2e5a803"
      },
      "source": [
        "'''\n",
        "for i, x in enumerate(x_train):\n",
        "  res = model.predict(np.array([x]))\n",
        "\n",
        "  plt.imsave(\"results/feed_binary/{}_diff_prt_{}.png\".format(i, round(x[img_shape:][1], 3)), \n",
        "             np.abs(y_train[i] - res[0])\n",
        "  )\n",
        "  plt.imsave(\"results/feed_binary/{}_true_prt_{}.png\".format(i, round(x[img_shape:][1], 3)), y_train[i])\n",
        "  plt.imsave(\"results/feed_binary/{}_pred_prt_{}.png\".format(i, round(x[img_shape:][1], 3)), res[0])\n",
        "'''"
      ],
      "execution_count": 22,
      "outputs": [
        {
          "output_type": "execute_result",
          "data": {
            "application/vnd.google.colaboratory.intrinsic+json": {
              "type": "string"
            },
            "text/plain": [
              "'\\nfor i, x in enumerate(x_train):\\n  res = model.predict(np.array([x]))\\n\\n  plt.imsave(\"results/feed_binary/{}_diff_prt_{}.png\".format(i, round(x[img_shape:][1], 3)), \\n             np.abs(y_train[i] - res[0])\\n  )\\n  plt.imsave(\"results/feed_binary/{}_true_prt_{}.png\".format(i, round(x[img_shape:][1], 3)), y_train[i])\\n  plt.imsave(\"results/feed_binary/{}_pred_prt_{}.png\".format(i, round(x[img_shape:][1], 3)), res[0])\\n'"
            ]
          },
          "metadata": {
            "tags": []
          },
          "execution_count": 22
        }
      ]
    },
    {
      "cell_type": "markdown",
      "metadata": {
        "id": "bY32koEsFs6z"
      },
      "source": [
        "#### Considerazioni\n",
        "- L'attivazione ReLU \"taglia\" dei valori intermedi, la rete impara di conseguenza a prevedere SOLO la matrice binaria finale per tutti gli step\n",
        "- La BatchNormalization() ad ogni livello migliora le prestazioni\n",
        "- La sigmoid ad ogni livello migliora le prestazioni\n",
        "- I valori predetti sono polarizzati tra 0 e 1, ho applicato una trasformazione in post per convertirli in binario\n",
        "- Con troppi neuroni il modello pensa ci siano piú celle allagate del previsto\n",
        "- Inaspettatamente, con molti meno neuroni la rete lavora meglio. Dimostra che non c'é una relazione lineare tra la dimensione input e la dimensione della rete\n",
        "- Valutare ACCURACY e provare ad applicare un layer custom che approssimi i valori binari\n",
        "\n",
        "#### Grid search\n",
        "- Caso 1\n",
        "  - layers: 2048-4096-2048\n",
        "  - Train loss: 0.9599439859390259\n",
        "  - Test loss: 0.7443766593933105\n",
        "- Caso 2\n",
        "  - layers: 1024-2048-1024\n",
        "  - Train loss: 0.9633248627185822\n",
        "  - Test loss: 0.9483283877372741\n",
        "- Caso 3\n",
        "  - layers: 1024-1024-1024\n",
        "  - Train loss: 0.9602072075009346\n",
        "  - Test loss: 0.7796615689992905\n",
        "- Caso 4\n",
        "  - layers: 256-512-256\n",
        "  - Train loss: 0.9725818052887917\n",
        "  - Test loss: 0.972408851981163\n",
        "- Caso 5\n",
        "  - layers: 128-256-128\n",
        "  - Train loss: 0.9711698390543461\n",
        "  - Test loss: 0.9726134836673737\n",
        "- Caso 6\n",
        "  - layers: 64-128-64\n",
        "  - Train loss: 0.9732487395405769\n",
        "  - Test loss: 0.9602359175682068\n"
      ]
    }
  ]
}