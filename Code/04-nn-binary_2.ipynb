{
  "nbformat": 4,
  "nbformat_minor": 0,
  "metadata": {
    "accelerator": "GPU",
    "colab": {
      "name": "06-feed-binary-2.ipynb",
      "provenance": [],
      "collapsed_sections": []
    },
    "kernelspec": {
      "display_name": "Python 3",
      "language": "python",
      "name": "python3"
    },
    "language_info": {
      "codemirror_mode": {
        "name": "ipython",
        "version": 3
      },
      "file_extension": ".py",
      "mimetype": "text/x-python",
      "name": "python",
      "nbconvert_exporter": "python",
      "pygments_lexer": "ipython3",
      "version": "3.8.5"
    }
  },
  "cells": [
    {
      "cell_type": "markdown",
      "metadata": {
        "id": "Lq6P0Gd-GyXz"
      },
      "source": [
        "### Functions"
      ]
    },
    {
      "cell_type": "code",
      "metadata": {
        "id": "izqg-6lZLsvH"
      },
      "source": [
        "import numpy as np\n",
        "import pandas as pd\n",
        "import os\n",
        "from pathlib import Path\n",
        "import tqdm\n",
        "import matplotlib.pyplot as plt\n",
        "import random\n",
        "import torch\n",
        "import torch.nn as nn\n",
        "import torch.optim as optim\n",
        "import seaborn as sns\n",
        "\n",
        "%matplotlib inline"
      ],
      "execution_count": 1,
      "outputs": []
    },
    {
      "cell_type": "code",
      "metadata": {
        "id": "2rEt3kXXxnbx"
      },
      "source": [
        "import tensorflow as tf\n",
        "from tensorflow import keras\n",
        "from tensorflow.keras.models import Sequential\n",
        "from tensorflow.keras.optimizers import Adam\n",
        "\n",
        "import keras.layers.advanced_activations as advanced_activations\n",
        "import keras.activations as activations\n",
        "import keras.layers as layers\n",
        "from keras.layers import Dense, concatenate"
      ],
      "execution_count": 2,
      "outputs": []
    },
    {
      "cell_type": "code",
      "metadata": {
        "id": "oVZZtAYAFGIG"
      },
      "source": [
        "import scipy.spatial.distance as distance\n",
        "def plot_mat_accuracy(input, y_hat, y_true):\n",
        "\n",
        "  input = input\n",
        "  y_hat = y_hat\n",
        "  y_true = y_true\n",
        "\n",
        "  dist = distance.cosine(y_hat.flatten(), y_true.flatten())\n",
        "\n",
        "  fig, axs = plt.subplots(1,3)\n",
        "  fig.suptitle('Accuracy: {}'.format(1 - dist))\n",
        "  \n",
        "  axs[0].set_title(\"Input\")\n",
        "  axs[0].matshow(input)\n",
        "\n",
        "  axs[1].set_title(\"Y_hat\")\n",
        "  axs[1].matshow(y_hat)\n",
        "\n",
        "  axs[2].set_title(\"Y_true\")\n",
        "  axs[2].matshow(y_true)\n",
        "  \n",
        "  for ax in axs:\n",
        "    ax.set_xticks([])\n",
        "    ax.set_yticks([])\n",
        "\n",
        "  plt.show()\n",
        "      \n",
        "  return 1 - dist\n",
        "\n",
        "def get_mat_accuracy(y_hat, y_true):\n",
        "  dist = distance.cosine(y_hat.flatten(), y_true.flatten())\n",
        "  return 1 - dist"
      ],
      "execution_count": 3,
      "outputs": []
    },
    {
      "cell_type": "markdown",
      "metadata": {
        "id": "v5kuFuMwLsvI"
      },
      "source": [
        "### Data Import"
      ]
    },
    {
      "cell_type": "code",
      "metadata": {
        "colab": {
          "base_uri": "https://localhost:8080/"
        },
        "id": "zPU8TnrRL1nX",
        "outputId": "84dded5c-0e13-4e6b-f67e-442573ce3981"
      },
      "source": [
        "from google.colab import drive\n",
        "drive.mount('/content/drive/')\n",
        "\n",
        "%cd drive/My\\ Drive/SWE"
      ],
      "execution_count": 4,
      "outputs": [
        {
          "output_type": "stream",
          "text": [
            "Drive already mounted at /content/drive/; to attempt to forcibly remount, call drive.mount(\"/content/drive/\", force_remount=True).\n",
            "/content/drive/My Drive/SWE\n"
          ],
          "name": "stdout"
        }
      ]
    },
    {
      "cell_type": "code",
      "metadata": {
        "colab": {
          "base_uri": "https://localhost:8080/"
        },
        "id": "ZQpFsZoyyjnf",
        "outputId": "66380097-8320-4d59-baad-6d9c8919e1a2"
      },
      "source": [
        "portate = np.load('datasets/numpy/portate.npy')\n",
        "print(portate.shape)\n",
        "\n",
        "binaries = np.load('datasets/numpy/binaries.npy')\n",
        "print(binaries.shape)\n",
        "\n",
        "btms = np.load('datasets/numpy/btms.npy')\n",
        "print(btms.shape)"
      ],
      "execution_count": 5,
      "outputs": [
        {
          "output_type": "stream",
          "text": [
            "(100, 1, 3, 4)\n",
            "(100, 1, 443, 640)\n",
            "(100, 1, 448, 640)\n"
          ],
          "name": "stdout"
        }
      ]
    },
    {
      "cell_type": "markdown",
      "metadata": {
        "id": "yZOOciWS4jnV"
      },
      "source": [
        "### Data Preprocessing\n",
        "L'input del modello é formato da 2 tipologie di dato concatenate:\n",
        "*   Matrice BTM (ad 1/3 della risoluzione originale)\n",
        "*   Vettore serie di portate nel tempo\n",
        "\n"
      ]
    },
    {
      "cell_type": "code",
      "metadata": {
        "id": "Wbfk5NjflB0f"
      },
      "source": [
        "portate = portate[:, :, :, 2]"
      ],
      "execution_count": 6,
      "outputs": []
    },
    {
      "cell_type": "markdown",
      "metadata": {
        "id": "vbhaYCbQG8fD"
      },
      "source": [
        "#### Resizing"
      ]
    },
    {
      "cell_type": "code",
      "metadata": {
        "id": "VnCn2y0Fj1PN"
      },
      "source": [
        "from skimage.transform import resize"
      ],
      "execution_count": 7,
      "outputs": []
    },
    {
      "cell_type": "code",
      "metadata": {
        "id": "RaPZblvEj7eA"
      },
      "source": [
        "'''\n",
        "FACTOR = 0.3\n",
        "\n",
        "binaries = np.array(\n",
        "    [resize(s[0], (int(s[0].shape[0] * FACTOR), int(s[0].shape[1] * FACTOR))) for s in binaries]\n",
        ")\n",
        "\n",
        "btms = np.array(\n",
        "    [resize(s[0], (int(s[0].shape[0] * FACTOR), int(s[0].shape[1] * FACTOR))) for s in btms]\n",
        ")\n",
        "'''\n",
        "\n",
        "binaries = binaries[:, 0, :, :]\n",
        "btms = btms[:, 0, :, :]"
      ],
      "execution_count": 8,
      "outputs": []
    },
    {
      "cell_type": "code",
      "metadata": {
        "colab": {
          "base_uri": "https://localhost:8080/"
        },
        "id": "DMqly95A6Uu2",
        "outputId": "659bb181-0fca-4c3d-e1b5-26f19a905696"
      },
      "source": [
        "print(binaries.shape)\n",
        "print(btms.shape)"
      ],
      "execution_count": 9,
      "outputs": [
        {
          "output_type": "stream",
          "text": [
            "(100, 443, 640)\n",
            "(100, 448, 640)\n"
          ],
          "name": "stdout"
        }
      ]
    },
    {
      "cell_type": "code",
      "metadata": {
        "colab": {
          "base_uri": "https://localhost:8080/",
          "height": 292
        },
        "id": "MC3JAQgzkjRY",
        "outputId": "d68634cd-c594-4bb2-c553-cf225d55a207"
      },
      "source": [
        "plt.matshow(binaries[0])"
      ],
      "execution_count": 10,
      "outputs": [
        {
          "output_type": "execute_result",
          "data": {
            "text/plain": [
              "<matplotlib.image.AxesImage at 0x7f3845057c50>"
            ]
          },
          "metadata": {
            "tags": []
          },
          "execution_count": 10
        },
        {
          "output_type": "display_data",
          "data": {
            "image/png": "[encoded data removed]",
            "text/plain": [
              "<Figure size 416.072x288 with 1 Axes>"
            ]
          },
          "metadata": {
            "tags": [],
            "needs_background": "light"
          }
        }
      ]
    },
    {
      "cell_type": "markdown",
      "metadata": {
        "id": "T2arPwN4CI_y"
      },
      "source": [
        "#### Concatenating"
      ]
    },
    {
      "cell_type": "code",
      "metadata": {
        "id": "NQvUP1nKQJkI"
      },
      "source": [
        "model_in_shape = portate.shape[2] + (btms.shape[1] * btms.shape[2])\n",
        "model_out_shape = binaries.shape[1] * binaries.shape[2]"
      ],
      "execution_count": 11,
      "outputs": []
    },
    {
      "cell_type": "code",
      "metadata": {
        "id": "ohiogWGg6oUE"
      },
      "source": [
        "# 100, model_in_shape (es: 300x300 + 3)\n",
        "inputs = np.zeros((portate.shape[0], model_in_shape))\n",
        "img_shape = model_in_shape - portate.shape[2]\n",
        "\n",
        "for i in range(100):\n",
        "  # Copia immagine flattened\n",
        "  inputs[i][:img_shape] = btms[i].flatten()\n",
        "  # Copia dati portata\n",
        "  inputs[i][img_shape:] = portate[i][0]"
      ],
      "execution_count": 12,
      "outputs": []
    },
    {
      "cell_type": "code",
      "metadata": {
        "id": "sSOeFUJPIsas"
      },
      "source": [
        "TRAIN_SIZE = int(inputs.shape[0] * 0.8)\n",
        "\n",
        "x_train, y_train = inputs[:TRAIN_SIZE], binaries[:TRAIN_SIZE]\n",
        "x_test, y_test = inputs[TRAIN_SIZE:], binaries[TRAIN_SIZE:]"
      ],
      "execution_count": 13,
      "outputs": []
    },
    {
      "cell_type": "markdown",
      "metadata": {
        "id": "-eKgVBcWKP6X"
      },
      "source": [
        "### Feed Forward"
      ]
    },
    {
      "cell_type": "code",
      "metadata": {
        "colab": {
          "base_uri": "https://localhost:8080/"
        },
        "id": "Ew2UQXNV4pnw",
        "outputId": "fac520a3-64c9-4389-df2e-7defebfb5c39"
      },
      "source": [
        "model = Sequential(\n",
        "    [\n",
        "        layers.Input(model_in_shape),\n",
        "        layers.BatchNormalization(),\n",
        "     \n",
        "        layers.Dense(512),\n",
        "        layers.BatchNormalization(),\n",
        "     \n",
        "        layers.Dense(1024),\n",
        "        layers.BatchNormalization(),\n",
        "     \n",
        "        layers.Dense(512),\n",
        "        layers.BatchNormalization(),\n",
        "     \n",
        "        layers.Dense(model_out_shape),\n",
        "        layers.Activation(activations.sigmoid),\n",
        "     \n",
        "        layers.Reshape((binaries.shape[1], binaries.shape[2]))\n",
        "     \n",
        "    ]\n",
        ")\n",
        "\n",
        "model.compile(optimizer=\"Adam\", loss=\"binary_crossentropy\", metrics=[\"cosine_similarity\"])\n",
        "model.summary()"
      ],
      "execution_count": 14,
      "outputs": [
        {
          "output_type": "stream",
          "text": [
            "Model: \"sequential\"\n",
            "_________________________________________________________________\n",
            "Layer (type)                 Output Shape              Param #   \n",
            "=================================================================\n",
            "batch_normalization (BatchNo (None, 286723)            1146892   \n",
            "_________________________________________________________________\n",
            "dense (Dense)                (None, 512)               146802688 \n",
            "_________________________________________________________________\n",
            "batch_normalization_1 (Batch (None, 512)               2048      \n",
            "_________________________________________________________________\n",
            "dense_1 (Dense)              (None, 1024)              525312    \n",
            "_________________________________________________________________\n",
            "batch_normalization_2 (Batch (None, 1024)              4096      \n",
            "_________________________________________________________________\n",
            "dense_2 (Dense)              (None, 512)               524800    \n",
            "_________________________________________________________________\n",
            "batch_normalization_3 (Batch (None, 512)               2048      \n",
            "_________________________________________________________________\n",
            "dense_3 (Dense)              (None, 283520)            145445760 \n",
            "_________________________________________________________________\n",
            "activation (Activation)      (None, 283520)            0         \n",
            "_________________________________________________________________\n",
            "reshape (Reshape)            (None, 443, 640)          0         \n",
            "=================================================================\n",
            "Total params: 294,453,644\n",
            "Trainable params: 293,876,102\n",
            "Non-trainable params: 577,542\n",
            "_________________________________________________________________\n"
          ],
          "name": "stdout"
        }
      ]
    },
    {
      "cell_type": "code",
      "metadata": {
        "id": "IuRM6XTnUzRA",
        "colab": {
          "base_uri": "https://localhost:8080/"
        },
        "outputId": "cbd08b22-4e6d-4545-b6ee-6847ce63c23d"
      },
      "source": [
        "epochs = 100\n",
        "\n",
        "model.fit(\n",
        "    x_train,\n",
        "    y_train,\n",
        "    batch_size=4,\n",
        "    epochs=epochs,\n",
        "    verbose=2,\n",
        "    shuffle=1,\n",
        "    validation_split=0.2,\n",
        ")"
      ],
      "execution_count": 15,
      "outputs": [
        {
          "output_type": "stream",
          "text": [
            "Epoch 1/100\n",
            "16/16 - 3s - loss: 0.6753 - cosine_similarity: 0.2696 - val_loss: 0.6974 - val_cosine_similarity: 0.3610\n",
            "Epoch 2/100\n",
            "16/16 - 1s - loss: 0.6613 - cosine_similarity: 0.2741 - val_loss: 0.7228 - val_cosine_similarity: 0.3362\n",
            "Epoch 3/100\n",
            "16/16 - 1s - loss: 0.6584 - cosine_similarity: 0.2732 - val_loss: 0.6467 - val_cosine_similarity: 0.3477\n",
            "Epoch 4/100\n",
            "16/16 - 1s - loss: 0.6380 - cosine_similarity: 0.2814 - val_loss: 0.3266 - val_cosine_similarity: 0.4666\n",
            "Epoch 5/100\n",
            "16/16 - 1s - loss: 0.6001 - cosine_similarity: 0.2898 - val_loss: 0.2591 - val_cosine_similarity: 0.5061\n",
            "Epoch 6/100\n",
            "16/16 - 1s - loss: 0.5222 - cosine_similarity: 0.3131 - val_loss: 0.1005 - val_cosine_similarity: 0.6359\n",
            "Epoch 7/100\n",
            "16/16 - 1s - loss: 0.4039 - cosine_similarity: 0.3537 - val_loss: 0.1608 - val_cosine_similarity: 0.6234\n",
            "Epoch 8/100\n",
            "16/16 - 1s - loss: 0.2879 - cosine_similarity: 0.3993 - val_loss: 0.1591 - val_cosine_similarity: 0.6325\n",
            "Epoch 9/100\n",
            "16/16 - 1s - loss: 0.1926 - cosine_similarity: 0.4438 - val_loss: 0.1986 - val_cosine_similarity: 0.6265\n",
            "Epoch 10/100\n",
            "16/16 - 1s - loss: 0.1385 - cosine_similarity: 0.4795 - val_loss: 0.2103 - val_cosine_similarity: 0.6239\n",
            "Epoch 11/100\n",
            "16/16 - 1s - loss: 0.1070 - cosine_similarity: 0.5105 - val_loss: 0.2718 - val_cosine_similarity: 0.6095\n",
            "Epoch 12/100\n",
            "16/16 - 1s - loss: 0.0955 - cosine_similarity: 0.5300 - val_loss: 0.2801 - val_cosine_similarity: 0.6059\n",
            "Epoch 13/100\n",
            "16/16 - 1s - loss: 0.0894 - cosine_similarity: 0.5457 - val_loss: 0.2322 - val_cosine_similarity: 0.6266\n",
            "Epoch 14/100\n",
            "16/16 - 1s - loss: 0.0806 - cosine_similarity: 0.5549 - val_loss: 0.3565 - val_cosine_similarity: 0.5929\n",
            "Epoch 15/100\n",
            "16/16 - 1s - loss: 0.0728 - cosine_similarity: 0.5646 - val_loss: 0.3231 - val_cosine_similarity: 0.6016\n",
            "Epoch 16/100\n",
            "16/16 - 1s - loss: 0.0697 - cosine_similarity: 0.5701 - val_loss: 0.2486 - val_cosine_similarity: 0.6266\n",
            "Epoch 17/100\n",
            "16/16 - 1s - loss: 0.0691 - cosine_similarity: 0.5705 - val_loss: 0.2378 - val_cosine_similarity: 0.6314\n",
            "Epoch 18/100\n",
            "16/16 - 1s - loss: 0.0665 - cosine_similarity: 0.5726 - val_loss: 0.3621 - val_cosine_similarity: 0.6047\n",
            "Epoch 19/100\n",
            "16/16 - 1s - loss: 0.0584 - cosine_similarity: 0.5786 - val_loss: 0.3609 - val_cosine_similarity: 0.5932\n",
            "Epoch 20/100\n",
            "16/16 - 1s - loss: 0.0561 - cosine_similarity: 0.5822 - val_loss: 0.2204 - val_cosine_similarity: 0.6367\n",
            "Epoch 21/100\n",
            "16/16 - 1s - loss: 0.0580 - cosine_similarity: 0.5803 - val_loss: 0.3669 - val_cosine_similarity: 0.5984\n",
            "Epoch 22/100\n",
            "16/16 - 1s - loss: 0.0599 - cosine_similarity: 0.5800 - val_loss: 0.3296 - val_cosine_similarity: 0.6034\n",
            "Epoch 23/100\n",
            "16/16 - 1s - loss: 0.0586 - cosine_similarity: 0.5791 - val_loss: 0.2308 - val_cosine_similarity: 0.6326\n",
            "Epoch 24/100\n",
            "16/16 - 1s - loss: 0.0608 - cosine_similarity: 0.5774 - val_loss: 0.5173 - val_cosine_similarity: 0.5781\n",
            "Epoch 25/100\n",
            "16/16 - 1s - loss: 0.0559 - cosine_similarity: 0.5807 - val_loss: 0.2295 - val_cosine_similarity: 0.6321\n",
            "Epoch 26/100\n",
            "16/16 - 1s - loss: 0.0609 - cosine_similarity: 0.5790 - val_loss: 0.2496 - val_cosine_similarity: 0.6276\n",
            "Epoch 27/100\n",
            "16/16 - 1s - loss: 0.0664 - cosine_similarity: 0.5753 - val_loss: 0.3006 - val_cosine_similarity: 0.6154\n",
            "Epoch 28/100\n",
            "16/16 - 1s - loss: 0.0611 - cosine_similarity: 0.5766 - val_loss: 0.2787 - val_cosine_similarity: 0.6264\n",
            "Epoch 29/100\n",
            "16/16 - 1s - loss: 0.0535 - cosine_similarity: 0.5826 - val_loss: 0.2582 - val_cosine_similarity: 0.6220\n",
            "Epoch 30/100\n",
            "16/16 - 1s - loss: 0.0646 - cosine_similarity: 0.5766 - val_loss: 0.1665 - val_cosine_similarity: 0.6512\n",
            "Epoch 31/100\n",
            "16/16 - 1s - loss: 0.0596 - cosine_similarity: 0.5776 - val_loss: 0.1823 - val_cosine_similarity: 0.6447\n",
            "Epoch 32/100\n",
            "16/16 - 1s - loss: 0.0491 - cosine_similarity: 0.5852 - val_loss: 0.1694 - val_cosine_similarity: 0.6492\n",
            "Epoch 33/100\n",
            "16/16 - 1s - loss: 0.0552 - cosine_similarity: 0.5840 - val_loss: 0.1947 - val_cosine_similarity: 0.6428\n",
            "Epoch 34/100\n",
            "16/16 - 1s - loss: 0.0618 - cosine_similarity: 0.5779 - val_loss: 0.1713 - val_cosine_similarity: 0.6494\n",
            "Epoch 35/100\n",
            "16/16 - 1s - loss: 0.0618 - cosine_similarity: 0.5794 - val_loss: 0.1864 - val_cosine_similarity: 0.6425\n",
            "Epoch 36/100\n",
            "16/16 - 1s - loss: 0.0589 - cosine_similarity: 0.5787 - val_loss: 0.1777 - val_cosine_similarity: 0.6467\n",
            "Epoch 37/100\n",
            "16/16 - 1s - loss: 0.0643 - cosine_similarity: 0.5768 - val_loss: 0.1726 - val_cosine_similarity: 0.6491\n",
            "Epoch 38/100\n",
            "16/16 - 1s - loss: 0.0483 - cosine_similarity: 0.5851 - val_loss: 0.2033 - val_cosine_similarity: 0.6374\n",
            "Epoch 39/100\n",
            "16/16 - 1s - loss: 0.0539 - cosine_similarity: 0.5831 - val_loss: 0.1713 - val_cosine_similarity: 0.6499\n",
            "Epoch 40/100\n",
            "16/16 - 1s - loss: 0.0590 - cosine_similarity: 0.5806 - val_loss: 0.1761 - val_cosine_similarity: 0.6472\n",
            "Epoch 41/100\n",
            "16/16 - 1s - loss: 0.0591 - cosine_similarity: 0.5798 - val_loss: 0.1745 - val_cosine_similarity: 0.6499\n",
            "Epoch 42/100\n",
            "16/16 - 1s - loss: 0.0581 - cosine_similarity: 0.5802 - val_loss: 0.1695 - val_cosine_similarity: 0.6502\n",
            "Epoch 43/100\n",
            "16/16 - 1s - loss: 0.0598 - cosine_similarity: 0.5796 - val_loss: 0.1658 - val_cosine_similarity: 0.6515\n",
            "Epoch 44/100\n",
            "16/16 - 1s - loss: 0.0586 - cosine_similarity: 0.5797 - val_loss: 0.1662 - val_cosine_similarity: 0.6512\n",
            "Epoch 45/100\n",
            "16/16 - 1s - loss: 0.0509 - cosine_similarity: 0.5848 - val_loss: 0.1628 - val_cosine_similarity: 0.6530\n",
            "Epoch 46/100\n",
            "16/16 - 1s - loss: 0.0540 - cosine_similarity: 0.5833 - val_loss: 0.1509 - val_cosine_similarity: 0.6531\n",
            "Epoch 47/100\n",
            "16/16 - 1s - loss: 0.0626 - cosine_similarity: 0.5779 - val_loss: 0.1743 - val_cosine_similarity: 0.6491\n",
            "Epoch 48/100\n",
            "16/16 - 1s - loss: 0.0645 - cosine_similarity: 0.5762 - val_loss: 0.1528 - val_cosine_similarity: 0.6520\n",
            "Epoch 49/100\n",
            "16/16 - 1s - loss: 0.0643 - cosine_similarity: 0.5757 - val_loss: 0.1583 - val_cosine_similarity: 0.6522\n",
            "Epoch 50/100\n",
            "16/16 - 1s - loss: 0.0681 - cosine_similarity: 0.5736 - val_loss: 0.1287 - val_cosine_similarity: 0.6519\n",
            "Epoch 51/100\n",
            "16/16 - 1s - loss: 0.0599 - cosine_similarity: 0.5781 - val_loss: 0.2065 - val_cosine_similarity: 0.6451\n",
            "Epoch 52/100\n",
            "16/16 - 1s - loss: 0.0574 - cosine_similarity: 0.5794 - val_loss: 0.1627 - val_cosine_similarity: 0.6537\n",
            "Epoch 53/100\n",
            "16/16 - 1s - loss: 0.0724 - cosine_similarity: 0.5743 - val_loss: 0.1624 - val_cosine_similarity: 0.6537\n",
            "Epoch 54/100\n",
            "16/16 - 1s - loss: 0.0569 - cosine_similarity: 0.5790 - val_loss: 0.1563 - val_cosine_similarity: 0.6537\n",
            "Epoch 55/100\n",
            "16/16 - 1s - loss: 0.0620 - cosine_similarity: 0.5802 - val_loss: 0.1411 - val_cosine_similarity: 0.6537\n",
            "Epoch 56/100\n",
            "16/16 - 1s - loss: 0.0611 - cosine_similarity: 0.5771 - val_loss: 0.1164 - val_cosine_similarity: 0.6537\n",
            "Epoch 57/100\n",
            "16/16 - 1s - loss: 0.0598 - cosine_similarity: 0.5804 - val_loss: 0.0950 - val_cosine_similarity: 0.6537\n",
            "Epoch 58/100\n",
            "16/16 - 1s - loss: 0.0578 - cosine_similarity: 0.5802 - val_loss: 0.0994 - val_cosine_similarity: 0.6537\n",
            "Epoch 59/100\n",
            "16/16 - 1s - loss: 0.0605 - cosine_similarity: 0.5780 - val_loss: 0.0835 - val_cosine_similarity: 0.6538\n",
            "Epoch 60/100\n",
            "16/16 - 1s - loss: 0.0534 - cosine_similarity: 0.5828 - val_loss: 0.0993 - val_cosine_similarity: 0.6537\n",
            "Epoch 61/100\n",
            "16/16 - 1s - loss: 0.0617 - cosine_similarity: 0.5778 - val_loss: 0.0756 - val_cosine_similarity: 0.6538\n",
            "Epoch 62/100\n",
            "16/16 - 1s - loss: 0.0485 - cosine_similarity: 0.5849 - val_loss: 0.0892 - val_cosine_similarity: 0.6537\n",
            "Epoch 63/100\n",
            "16/16 - 1s - loss: 0.0645 - cosine_similarity: 0.5768 - val_loss: 0.0808 - val_cosine_similarity: 0.6538\n",
            "Epoch 64/100\n",
            "16/16 - 1s - loss: 0.0558 - cosine_similarity: 0.5809 - val_loss: 0.0737 - val_cosine_similarity: 0.6538\n",
            "Epoch 65/100\n",
            "16/16 - 1s - loss: 0.0573 - cosine_similarity: 0.5810 - val_loss: 0.0914 - val_cosine_similarity: 0.6537\n",
            "Epoch 66/100\n",
            "16/16 - 1s - loss: 0.0706 - cosine_similarity: 0.5728 - val_loss: 0.0743 - val_cosine_similarity: 0.6538\n",
            "Epoch 67/100\n",
            "16/16 - 1s - loss: 0.0629 - cosine_similarity: 0.5772 - val_loss: 0.0986 - val_cosine_similarity: 0.6531\n",
            "Epoch 68/100\n",
            "16/16 - 1s - loss: 0.0501 - cosine_similarity: 0.5837 - val_loss: 0.0815 - val_cosine_similarity: 0.6538\n",
            "Epoch 69/100\n",
            "16/16 - 1s - loss: 0.0517 - cosine_similarity: 0.5836 - val_loss: 0.0860 - val_cosine_similarity: 0.6538\n",
            "Epoch 70/100\n",
            "16/16 - 1s - loss: 0.0532 - cosine_similarity: 0.5823 - val_loss: 0.0827 - val_cosine_similarity: 0.6537\n",
            "Epoch 71/100\n",
            "16/16 - 1s - loss: 0.0561 - cosine_similarity: 0.5818 - val_loss: 0.0861 - val_cosine_similarity: 0.6537\n",
            "Epoch 72/100\n",
            "16/16 - 1s - loss: 0.0636 - cosine_similarity: 0.5798 - val_loss: 0.0972 - val_cosine_similarity: 0.6537\n",
            "Epoch 73/100\n",
            "16/16 - 1s - loss: 0.0546 - cosine_similarity: 0.5819 - val_loss: 0.0804 - val_cosine_similarity: 0.6538\n",
            "Epoch 74/100\n",
            "16/16 - 1s - loss: 0.0604 - cosine_similarity: 0.5807 - val_loss: 0.1003 - val_cosine_similarity: 0.6537\n",
            "Epoch 75/100\n",
            "16/16 - 1s - loss: 0.0540 - cosine_similarity: 0.5818 - val_loss: 0.0877 - val_cosine_similarity: 0.6537\n",
            "Epoch 76/100\n",
            "16/16 - 1s - loss: 0.0553 - cosine_similarity: 0.5827 - val_loss: 0.1201 - val_cosine_similarity: 0.6537\n",
            "Epoch 77/100\n",
            "16/16 - 1s - loss: 0.0496 - cosine_similarity: 0.5830 - val_loss: 0.0765 - val_cosine_similarity: 0.6538\n",
            "Epoch 78/100\n",
            "16/16 - 1s - loss: 0.0461 - cosine_similarity: 0.5866 - val_loss: 0.0963 - val_cosine_similarity: 0.6537\n",
            "Epoch 79/100\n",
            "16/16 - 1s - loss: 0.0445 - cosine_similarity: 0.5882 - val_loss: 0.1003 - val_cosine_similarity: 0.6537\n",
            "Epoch 80/100\n",
            "16/16 - 1s - loss: 0.0500 - cosine_similarity: 0.5856 - val_loss: 0.0979 - val_cosine_similarity: 0.6537\n",
            "Epoch 81/100\n",
            "16/16 - 1s - loss: 0.0519 - cosine_similarity: 0.5841 - val_loss: 0.0913 - val_cosine_similarity: 0.6537\n",
            "Epoch 82/100\n",
            "16/16 - 1s - loss: 0.0572 - cosine_similarity: 0.5793 - val_loss: 0.1016 - val_cosine_similarity: 0.6537\n",
            "Epoch 83/100\n",
            "16/16 - 1s - loss: 0.0606 - cosine_similarity: 0.5807 - val_loss: 0.0981 - val_cosine_similarity: 0.6537\n",
            "Epoch 84/100\n",
            "16/16 - 1s - loss: 0.0555 - cosine_similarity: 0.5811 - val_loss: 0.0915 - val_cosine_similarity: 0.6537\n",
            "Epoch 85/100\n",
            "16/16 - 1s - loss: 0.0499 - cosine_similarity: 0.5847 - val_loss: 0.1112 - val_cosine_similarity: 0.6537\n",
            "Epoch 86/100\n",
            "16/16 - 1s - loss: 0.0502 - cosine_similarity: 0.5858 - val_loss: 0.0933 - val_cosine_similarity: 0.6537\n",
            "Epoch 87/100\n",
            "16/16 - 1s - loss: 0.0668 - cosine_similarity: 0.5731 - val_loss: 0.1093 - val_cosine_similarity: 0.6537\n",
            "Epoch 88/100\n",
            "16/16 - 1s - loss: 0.0653 - cosine_similarity: 0.5739 - val_loss: 0.0982 - val_cosine_similarity: 0.6537\n",
            "Epoch 89/100\n",
            "16/16 - 1s - loss: 0.0523 - cosine_similarity: 0.5838 - val_loss: 0.0989 - val_cosine_similarity: 0.6537\n",
            "Epoch 90/100\n",
            "16/16 - 1s - loss: 0.0505 - cosine_similarity: 0.5854 - val_loss: 0.1061 - val_cosine_similarity: 0.6537\n",
            "Epoch 91/100\n",
            "16/16 - 1s - loss: 0.0469 - cosine_similarity: 0.5870 - val_loss: 0.1027 - val_cosine_similarity: 0.6537\n",
            "Epoch 92/100\n",
            "16/16 - 1s - loss: 0.0638 - cosine_similarity: 0.5782 - val_loss: 0.1535 - val_cosine_similarity: 0.6536\n",
            "Epoch 93/100\n",
            "16/16 - 1s - loss: 0.0719 - cosine_similarity: 0.5722 - val_loss: 0.1188 - val_cosine_similarity: 0.6537\n",
            "Epoch 94/100\n",
            "16/16 - 1s - loss: 0.0524 - cosine_similarity: 0.5813 - val_loss: 0.1569 - val_cosine_similarity: 0.6536\n",
            "Epoch 95/100\n",
            "16/16 - 1s - loss: 0.0599 - cosine_similarity: 0.5809 - val_loss: 0.1299 - val_cosine_similarity: 0.6536\n",
            "Epoch 96/100\n",
            "16/16 - 1s - loss: 0.0485 - cosine_similarity: 0.5846 - val_loss: 0.1356 - val_cosine_similarity: 0.6536\n",
            "Epoch 97/100\n",
            "16/16 - 1s - loss: 0.0719 - cosine_similarity: 0.5737 - val_loss: 0.1053 - val_cosine_similarity: 0.6537\n",
            "Epoch 98/100\n",
            "16/16 - 1s - loss: 0.0524 - cosine_similarity: 0.5818 - val_loss: 0.1083 - val_cosine_similarity: 0.6537\n",
            "Epoch 99/100\n",
            "16/16 - 1s - loss: 0.0613 - cosine_similarity: 0.5785 - val_loss: 0.1238 - val_cosine_similarity: 0.6537\n",
            "Epoch 100/100\n",
            "16/16 - 1s - loss: 0.0535 - cosine_similarity: 0.5820 - val_loss: 0.0829 - val_cosine_similarity: 0.6538\n"
          ],
          "name": "stdout"
        },
        {
          "output_type": "execute_result",
          "data": {
            "text/plain": [
              "<tensorflow.python.keras.callbacks.History at 0x7f3830076b00>"
            ]
          },
          "metadata": {
            "tags": []
          },
          "execution_count": 15
        }
      ]
    },
    {
      "cell_type": "code",
      "metadata": {
        "colab": {
          "base_uri": "https://localhost:8080/"
        },
        "id": "WxLYb02wl3Zd",
        "outputId": "e9957f82-5a01-4295-b11f-d037b281da2c"
      },
      "source": [
        "model.evaluate(x_test, y_test)"
      ],
      "execution_count": 16,
      "outputs": [
        {
          "output_type": "stream",
          "text": [
            "1/1 [==============================] - 0s 185ms/step - loss: 0.1956 - cosine_similarity: 0.6286\n"
          ],
          "name": "stdout"
        },
        {
          "output_type": "execute_result",
          "data": {
            "text/plain": [
              "[0.19563870131969452, 0.6285586357116699]"
            ]
          },
          "metadata": {
            "tags": []
          },
          "execution_count": 16
        }
      ]
    },
    {
      "cell_type": "code",
      "metadata": {
        "id": "wI1ErS1j-ctQ"
      },
      "source": [
        "# btms 0 + portate 0\n",
        "index = 0\n",
        "res = model.predict(np.array([x_test[index]]))"
      ],
      "execution_count": 17,
      "outputs": []
    },
    {
      "cell_type": "code",
      "metadata": {
        "colab": {
          "base_uri": "https://localhost:8080/",
          "height": 336
        },
        "id": "OVWpYrKaERwy",
        "outputId": "2a8d70f5-ec9f-49eb-ca95-8e1e6c5ceb6c"
      },
      "source": [
        "# Noto che la rete ha polarizzato i valori! (YAY!)\n",
        "sns.distplot(res[0].flatten())"
      ],
      "execution_count": 18,
      "outputs": [
        {
          "output_type": "stream",
          "text": [
            "/usr/local/lib/python3.6/dist-packages/seaborn/distributions.py:2557: FutureWarning: `distplot` is a deprecated function and will be removed in a future version. Please adapt your code to use either `displot` (a figure-level function with similar flexibility) or `histplot` (an axes-level function for histograms).\n",
            "  warnings.warn(msg, FutureWarning)\n"
          ],
          "name": "stderr"
        },
        {
          "output_type": "execute_result",
          "data": {
            "text/plain": [
              "<matplotlib.axes._subplots.AxesSubplot at 0x7f37a63eaeb8>"
            ]
          },
          "metadata": {
            "tags": []
          },
          "execution_count": 18
        },
        {
          "output_type": "display_data",
          "data": {
            "image/png": "[encoded data removed]",
            "text/plain": [
              "<Figure size 432x288 with 1 Axes>"
            ]
          },
          "metadata": {
            "tags": [],
            "needs_background": "light"
          }
        }
      ]
    },
    {
      "cell_type": "code",
      "metadata": {
        "id": "7rjIu1i1Es3u"
      },
      "source": [
        "# Approssimo i valori a binario in base ad una soglia\n",
        "THRSHLD = 0.8\n",
        "\n",
        "res[res >= THRSHLD] = 1\n",
        "res[res < THRSHLD] = 0"
      ],
      "execution_count": 19,
      "outputs": []
    },
    {
      "cell_type": "code",
      "metadata": {
        "colab": {
          "base_uri": "https://localhost:8080/",
          "height": 223
        },
        "id": "oDQwWZ6zE2T4",
        "outputId": "ff911e04-2cac-4527-92f4-093b48d752b6"
      },
      "source": [
        "plot_mat_accuracy(\n",
        "    x_test[index][:img_shape].reshape(btms.shape[1], btms.shape[2]),\n",
        "    res[0],\n",
        "    y_test[index]\n",
        ")"
      ],
      "execution_count": 20,
      "outputs": [
        {
          "output_type": "display_data",
          "data": {
            "image/png": "[encoded data removed]",
            "text/plain": [
              "<Figure size 432x288 with 3 Axes>"
            ]
          },
          "metadata": {
            "tags": []
          }
        },
        {
          "output_type": "execute_result",
          "data": {
            "text/plain": [
              "0.9632532596588135"
            ]
          },
          "metadata": {
            "tags": []
          },
          "execution_count": 20
        }
      ]
    },
    {
      "cell_type": "code",
      "metadata": {
        "colab": {
          "base_uri": "https://localhost:8080/",
          "height": 86
        },
        "id": "BPzRug7oL9yh",
        "outputId": "1b22c06b-0b1e-4b46-c7f8-3e9226370f43"
      },
      "source": [
        "'''\n",
        "# Test Loss\n",
        "test_losses = np.zeros(x_test.shape[0])\n",
        "\n",
        "for i, x in enumerate(x_test):\n",
        "  y_hat = model.predict(np.array([x]))\n",
        "  y_true = y_test[i]\n",
        "\n",
        "  test_losses[i] = get_mat_accuracy(y_hat, y_true)\n",
        "\n",
        "# Train loss\n",
        "train_losses = np.zeros(x_train.shape[0])\n",
        "\n",
        "for i, x in enumerate(x_train):\n",
        "  y_hat = model.predict(np.array([x]))\n",
        "  y_true = y_train[i]\n",
        "\n",
        "  train_losses[i] = get_mat_accuracy(y_hat, y_true)\n",
        "\n",
        "\n",
        "print(\"Train accuracy: {}\".format(train_losses.mean()))\n",
        "print(\"Test accuracy: {}\".format(test_losses.mean()))\n",
        "'''"
      ],
      "execution_count": 21,
      "outputs": [
        {
          "output_type": "execute_result",
          "data": {
            "application/vnd.google.colaboratory.intrinsic+json": {
              "type": "string"
            },
            "text/plain": [
              "'\\n# Test Loss\\ntest_losses = np.zeros(x_test.shape[0])\\n\\nfor i, x in enumerate(x_test):\\n  y_hat = model.predict(np.array([x]))\\n  y_true = y_test[i]\\n\\n  test_losses[i] = get_mat_accuracy(y_hat, y_true)\\n\\n# Train loss\\ntrain_losses = np.zeros(x_train.shape[0])\\n\\nfor i, x in enumerate(x_train):\\n  y_hat = model.predict(np.array([x]))\\n  y_true = y_train[i]\\n\\n  train_losses[i] = get_mat_accuracy(y_hat, y_true)\\n\\n\\nprint(\"Train accuracy: {}\".format(train_losses.mean()))\\nprint(\"Test accuracy: {}\".format(test_losses.mean()))\\n'"
            ]
          },
          "metadata": {
            "tags": []
          },
          "execution_count": 21
        }
      ]
    },
    {
      "cell_type": "code",
      "metadata": {
        "colab": {
          "base_uri": "https://localhost:8080/",
          "height": 86
        },
        "id": "PQkac21koWdy",
        "outputId": "02f0d8b8-e6ce-4506-e995-f9d60ef506a0"
      },
      "source": [
        "'''\n",
        "for i, x in enumerate(x_train):\n",
        "  res = model.predict(np.array([x]))\n",
        "\n",
        "  plt.imsave(\"results/feed_binary/{}_diff_prt_{}.png\".format(i, round(x[img_shape:][1], 3)), \n",
        "             np.abs(y_train[i] - res[0])\n",
        "  )\n",
        "  plt.imsave(\"results/feed_binary/{}_true_prt_{}.png\".format(i, round(x[img_shape:][1], 3)), y_train[i])\n",
        "  plt.imsave(\"results/feed_binary/{}_pred_prt_{}.png\".format(i, round(x[img_shape:][1], 3)), res[0])\n",
        "'''"
      ],
      "execution_count": 22,
      "outputs": [
        {
          "output_type": "execute_result",
          "data": {
            "application/vnd.google.colaboratory.intrinsic+json": {
              "type": "string"
            },
            "text/plain": [
              "'\\nfor i, x in enumerate(x_train):\\n  res = model.predict(np.array([x]))\\n\\n  plt.imsave(\"results/feed_binary/{}_diff_prt_{}.png\".format(i, round(x[img_shape:][1], 3)), \\n             np.abs(y_train[i] - res[0])\\n  )\\n  plt.imsave(\"results/feed_binary/{}_true_prt_{}.png\".format(i, round(x[img_shape:][1], 3)), y_train[i])\\n  plt.imsave(\"results/feed_binary/{}_pred_prt_{}.png\".format(i, round(x[img_shape:][1], 3)), res[0])\\n'"
            ]
          },
          "metadata": {
            "tags": []
          },
          "execution_count": 22
        }
      ]
    },
    {
      "cell_type": "markdown",
      "metadata": {
        "id": "bY32koEsFs6z"
      },
      "source": [
        "#### Considerazioni\n",
        "- L'attivazione ReLU \"taglia\" dei valori intermedi, la rete impara di conseguenza a prevedere SOLO la matrice binaria finale per tutti gli step\n",
        "- La BatchNormalization() ad ogni livello migliora le prestazioni\n",
        "- La sigmoid ad ogni livello migliora le prestazioni\n",
        "- I valori predetti sono polarizzati tra 0 e 1, ho applicato una trasformazione in post per convertirli in binario\n",
        "- Con troppi neuroni il modello pensa ci siano piú celle allagate del previsto\n",
        "- Inaspettatamente, con molti meno neuroni la rete lavora meglio. Dimostra che non c'é una relazione lineare tra la dimensione input e la dimensione della rete\n",
        "- Valutare ACCURACY e provare ad applicare un layer custom che approssimi i valori binari\n",
        "\n",
        "#### Grid search\n",
        "- Caso 1\n",
        "  - layers: 2048-4096-2048\n",
        "  - Train loss: 0.9599439859390259\n",
        "  - Test loss: 0.7443766593933105\n",
        "- Caso 2\n",
        "  - layers: 1024-2048-1024\n",
        "  - Train loss: 0.9633248627185822\n",
        "  - Test loss: 0.9483283877372741\n",
        "- Caso 3\n",
        "  - layers: 1024-1024-1024\n",
        "  - Train loss: 0.9602072075009346\n",
        "  - Test loss: 0.7796615689992905\n",
        "- Caso 4\n",
        "  - layers: 256-512-256\n",
        "  - Train loss: 0.9725818052887917\n",
        "  - Test loss: 0.972408851981163\n",
        "- Caso 5\n",
        "  - layers: 128-256-128\n",
        "  - Train loss: 0.9711698390543461\n",
        "  - Test loss: 0.9726134836673737\n",
        "- Caso 6\n",
        "  - layers: 64-128-64\n",
        "  - Train loss: 0.9732487395405769\n",
        "  - Test loss: 0.9602359175682068\n"
      ]
    }
  ]
}